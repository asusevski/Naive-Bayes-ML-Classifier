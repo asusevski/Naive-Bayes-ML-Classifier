{
 "cells": [
  {
   "cell_type": "markdown",
   "metadata": {},
   "source": [
    "# Intact Medical Specialty Classification Model using NLP\n",
    "\n",
    "### By: Daniyal, Hibah, Abhishek and Adam"
   ]
  },
  {
   "cell_type": "markdown",
   "metadata": {},
   "source": [
    "### Step 1: Import libraries and read in the data\n",
    "\n",
    "We'll add more libraries, as we move on."
   ]
  },
  {
   "cell_type": "code",
   "execution_count": 28,
   "metadata": {
    "scrolled": true
   },
   "outputs": [
    {
     "name": "stdout",
     "output_type": "stream",
     "text": [
      "Test size:  3969\n"
     ]
    },
    {
     "data": {
      "text/html": [
       "<div>\n",
       "<style scoped>\n",
       "    .dataframe tbody tr th:only-of-type {\n",
       "        vertical-align: middle;\n",
       "    }\n",
       "\n",
       "    .dataframe tbody tr th {\n",
       "        vertical-align: top;\n",
       "    }\n",
       "\n",
       "    .dataframe thead th {\n",
       "        text-align: right;\n",
       "    }\n",
       "</style>\n",
       "<table border=\"1\" class=\"dataframe\">\n",
       "  <thead>\n",
       "    <tr style=\"text-align: right;\">\n",
       "      <th></th>\n",
       "      <th>medical_specialty</th>\n",
       "      <th>transcription</th>\n",
       "      <th>labels</th>\n",
       "    </tr>\n",
       "  </thead>\n",
       "  <tbody>\n",
       "    <tr>\n",
       "      <th>0</th>\n",
       "      <td>Emergency Room Reports</td>\n",
       "      <td>REASON FOR THE VISIT:,  Very high PT/INR.,HIST...</td>\n",
       "      <td>0</td>\n",
       "    </tr>\n",
       "    <tr>\n",
       "      <th>1</th>\n",
       "      <td>Surgery</td>\n",
       "      <td>PREOPERATIVE DIAGNOSIS:,  Acetabular fracture ...</td>\n",
       "      <td>1</td>\n",
       "    </tr>\n",
       "    <tr>\n",
       "      <th>2</th>\n",
       "      <td>Surgery</td>\n",
       "      <td>NAME OF PROCEDURE,1.  Selective coronary angio...</td>\n",
       "      <td>1</td>\n",
       "    </tr>\n",
       "    <tr>\n",
       "      <th>3</th>\n",
       "      <td>Radiology</td>\n",
       "      <td>REFERRING DIAGNOSIS: , Motor neuron disease.,P...</td>\n",
       "      <td>2</td>\n",
       "    </tr>\n",
       "    <tr>\n",
       "      <th>4</th>\n",
       "      <td>Emergency Room Reports</td>\n",
       "      <td>CHIEF COMPLAINT: , Dental pain.,HISTORY OF PRE...</td>\n",
       "      <td>0</td>\n",
       "    </tr>\n",
       "    <tr>\n",
       "      <th>...</th>\n",
       "      <td>...</td>\n",
       "      <td>...</td>\n",
       "      <td>...</td>\n",
       "    </tr>\n",
       "    <tr>\n",
       "      <th>3995</th>\n",
       "      <td>Neurology</td>\n",
       "      <td>PROBLEMS AND ISSUES:,1.  Headaches, nausea, an...</td>\n",
       "      <td>4</td>\n",
       "    </tr>\n",
       "    <tr>\n",
       "      <th>3996</th>\n",
       "      <td>Surgery</td>\n",
       "      <td>PREOPERATIVE DIAGNOSIS: , Anemia.,PROCEDURE:, ...</td>\n",
       "      <td>1</td>\n",
       "    </tr>\n",
       "    <tr>\n",
       "      <th>3997</th>\n",
       "      <td>Surgery</td>\n",
       "      <td>1.  Odynophagia.,2.  Dysphagia.,3.  Gastroesop...</td>\n",
       "      <td>1</td>\n",
       "    </tr>\n",
       "    <tr>\n",
       "      <th>3998</th>\n",
       "      <td>Gastroenterology</td>\n",
       "      <td>The patient's abdomen was prepped and draped i...</td>\n",
       "      <td>5</td>\n",
       "    </tr>\n",
       "    <tr>\n",
       "      <th>3999</th>\n",
       "      <td>Surgery</td>\n",
       "      <td>PREOPERATIVE DIAGNOSIS: , Right pleural effusi...</td>\n",
       "      <td>1</td>\n",
       "    </tr>\n",
       "  </tbody>\n",
       "</table>\n",
       "<p>3969 rows × 3 columns</p>\n",
       "</div>"
      ],
      "text/plain": [
       "            medical_specialty  \\\n",
       "0      Emergency Room Reports   \n",
       "1                     Surgery   \n",
       "2                     Surgery   \n",
       "3                   Radiology   \n",
       "4      Emergency Room Reports   \n",
       "...                       ...   \n",
       "3995                Neurology   \n",
       "3996                  Surgery   \n",
       "3997                  Surgery   \n",
       "3998         Gastroenterology   \n",
       "3999                  Surgery   \n",
       "\n",
       "                                          transcription  labels  \n",
       "0     REASON FOR THE VISIT:,  Very high PT/INR.,HIST...       0  \n",
       "1     PREOPERATIVE DIAGNOSIS:,  Acetabular fracture ...       1  \n",
       "2     NAME OF PROCEDURE,1.  Selective coronary angio...       1  \n",
       "3     REFERRING DIAGNOSIS: , Motor neuron disease.,P...       2  \n",
       "4     CHIEF COMPLAINT: , Dental pain.,HISTORY OF PRE...       0  \n",
       "...                                                 ...     ...  \n",
       "3995  PROBLEMS AND ISSUES:,1.  Headaches, nausea, an...       4  \n",
       "3996  PREOPERATIVE DIAGNOSIS: , Anemia.,PROCEDURE:, ...       1  \n",
       "3997  1.  Odynophagia.,2.  Dysphagia.,3.  Gastroesop...       1  \n",
       "3998  The patient's abdomen was prepped and draped i...       5  \n",
       "3999  PREOPERATIVE DIAGNOSIS: , Right pleural effusi...       1  \n",
       "\n",
       "[3969 rows x 3 columns]"
      ]
     },
     "execution_count": 28,
     "metadata": {},
     "output_type": "execute_result"
    }
   ],
   "source": [
    "import pandas as pd\n",
    "import re\n",
    "from sklearn.feature_extraction.text import CountVectorizer\n",
    "from sklearn.model_selection import train_test_split\n",
    "from sklearn.naive_bayes import MultinomialNB\n",
    "from sklearn import metrics\n",
    "from sklearn.metrics import classification_report\n",
    "from nltk.stem import WordNetLemmatizer\n",
    "\n",
    "df = pd.read_csv(\"new_train.csv\", index_col=0)\n",
    "print(\"Test size: \", len(df))\n",
    "df # print"
   ]
  },
  {
   "cell_type": "markdown",
   "metadata": {},
   "source": [
    "### Step 2: Pre-process our data\n",
    "\n",
    "I think this is the most important step here, the ML model is only as good as its dataset, so we gotta make sure it's squeaky clean.\n",
    "\n",
    "All of the basic pre-processing is done by the CountVectorizer, these tasks include:\n",
    "- Tokenize (divide words individually)\n",
    "- Remove stop-words (remove \"the, and, to, or, ...\"; other special characters)\n",
    "- Lemmatize (convert similar words into its base root; eating, eats, ate => eat)"
   ]
  },
  {
   "cell_type": "code",
   "execution_count": 7,
   "metadata": {},
   "outputs": [
    {
     "name": "stdout",
     "output_type": "stream",
     "text": [
      "Label size:  3969\n"
     ]
    },
    {
     "data": {
      "text/plain": [
       "0       0\n",
       "1       1\n",
       "2       1\n",
       "3       2\n",
       "4       0\n",
       "       ..\n",
       "3995    4\n",
       "3996    1\n",
       "3997    1\n",
       "3998    5\n",
       "3999    1\n",
       "Name: labels, Length: 3969, dtype: int64"
      ]
     },
     "execution_count": 7,
     "metadata": {},
     "output_type": "execute_result"
    }
   ],
   "source": [
    "# Create labels/target values\n",
    "y = df.labels\n",
    "print(\"Label size: \", len(y))\n",
    "y"
   ]
  },
  {
   "cell_type": "code",
   "execution_count": 9,
   "metadata": {
    "scrolled": true
   },
   "outputs": [
    {
     "name": "stdout",
     "output_type": "stream",
     "text": [
      "X_train size:  3175\n",
      "y_train size:  3175\n",
      "X_test size:  794\n",
      "y_test size:  794\n"
     ]
    }
   ],
   "source": [
    "# Split the data into training and testing sets\n",
    "X_train, X_test, y_train, y_test = train_test_split(df[\"transcription\"], y, test_size=0.2, random_state=53)\n",
    "\n",
    "# X_train: training data of features\n",
    "print(\"X_train size: \", len(X_train))\n",
    "# y_train: training data of label\n",
    "print(\"y_train size: \", len(y_train))\n",
    "\n",
    "# X_test: test data of features\n",
    "print(\"X_test size: \", len(X_test))\n",
    "# y_test: test data of label\n",
    "print(\"y_test size: \", len(y_test))\n",
    "\n",
    "# X_train\n",
    "# y_train[:50]\n",
    "# X_test\n",
    "# y_test"
   ]
  },
  {
   "cell_type": "code",
   "execution_count": 35,
   "metadata": {},
   "outputs": [
    {
     "name": "stdout",
     "output_type": "stream",
     "text": [
      "0\n"
     ]
    }
   ],
   "source": [
    "# Instantiate the WordNetLemmatizer\n",
    "wordnet_lemmatizer = WordNetLemmatizer()\n",
    "\n",
    "count = 0\n",
    "# Custom pre-processing function\n",
    "def preprocess_data(text):\n",
    "    text = text.lower()\n",
    "    text = re.sub(r'\\d+|_', '', text) # removes words with digits and '_'\n",
    "    wordnet_lemmatizer.lemmatize(text)\n",
    "    return text\n",
    "\n",
    "# Initialize a CountVectorizer object\n",
    "count_vectorizer = CountVectorizer(stop_words=\"english\", preprocessor=preprocess_data) # work on more pre-processing\n",
    "print(count)"
   ]
  },
  {
   "cell_type": "markdown",
   "metadata": {},
   "source": [
    "### Step 3: Fit and Transform the Data\n",
    "\n",
    "Specifically, we must fit AND transform the feature training data and only transform the feature test data.\n",
    "This is a preliminary step.\n",
    "\n",
    "In fit_transform(), what happens is that we calculate the mean and variance of the training data and standardize the entire dataset (hence, transform). We only need transform() for the test data because we are using the mean and variance of the training data to standardize the test data."
   ]
  },
  {
   "cell_type": "code",
   "execution_count": 33,
   "metadata": {},
   "outputs": [
    {
     "name": "stdout",
     "output_type": "stream",
     "text": [
      "['aa' 'ab' 'abandoned' 'abandonment' 'abated' 'abbott' 'abbreviated' 'abc'\n",
      " 'abcd' 'abcg' 'abciximab' 'abd' 'abdomen' 'abdominal' 'abdominally'\n",
      " 'abdominis' 'abdominopelvic' 'abdominoplasty' 'abdominosacrocolpopexy'\n",
      " 'abdominus' 'abds' 'abduct' 'abducted' 'abduction' 'abducto' 'abductor'\n",
      " 'abductors' 'abductovalgus' 'abductus' 'aberrant' 'aberration' 'abf'\n",
      " 'abg' 'abgs' 'abilify' 'abilities' 'ability' 'ablate' 'ablated'\n",
      " 'ablation' 'ablative' 'able' 'abnormal' 'abnormalities' 'abnormality'\n",
      " 'abnormally' 'abnormities' 'abo' 'abolish' 'abort' 'aborted' 'abortion'\n",
      " 'abortions' 'abortive' 'abovementioned' 'abraded' 'abrading' 'abraham'\n",
      " 'abrasion' 'abrasions' 'abraxane' 'abreast' 'abrogated' 'abrogation'\n",
      " 'abrupt' 'abruptio' 'abruptly' 'abs' 'abscess' 'abscessed' 'abscesses'\n",
      " 'absence' 'absent' 'absolute' 'absolutely' 'absorb' 'absorbable'\n",
      " 'absorbables' 'absorbing' 'absorption' 'absorptive' 'abstain'\n",
      " 'abstinence' 'abstract' 'abstractions' 'abundant' 'abundantly' 'abuse'\n",
      " 'abused' 'abuser' 'abusing' 'abusive' 'abut' 'abutments' 'abuts'\n",
      " 'abutting' 'ac' 'aca' 'academic' 'academy' 'acalculous' 'acanthosis'\n",
      " 'acathexia' 'accelerated' 'accelerating' 'acceleration' 'accelerations'\n",
      " 'accept' 'acceptable' 'accepted' 'accepts' 'access' 'accessed' 'accesses'\n",
      " 'accessing' 'accessory' 'accident' 'accidental' 'accidentally'\n",
      " 'accidents' 'accommodate' 'accommodated' 'accommodation' 'accommodative'\n",
      " 'accompanied' 'accompanies' 'accompany' 'accompanying' 'accomplish'\n",
      " 'accomplished' 'accomplishing' 'according' 'accordingly' 'account'\n",
      " 'accounting' 'accounts' 'accu' 'accumulate' 'accumulating' 'accumulation'\n",
      " 'accumulations' 'accupril' 'accuracy' 'accurate' 'accurately' 'accurus'\n",
      " 'accusation' 'accutane' 'acdf' 'ace' 'acellular' 'acetabular'\n",
      " 'acetabulum' 'acetaminophen' 'acetate' 'acetazolamide' 'acetic' 'aceto'\n",
      " 'acetowhite' 'acetyl' 'acetylcholine' 'acf' 'achalasia' 'ache' 'aches'\n",
      " 'achieve' 'achieved' 'achievement' 'achieves' 'achieving' 'achilles'\n",
      " 'achiness' 'aching' 'achy' 'acid' 'acidic' 'acidosis' 'acidotic' 'acids'\n",
      " 'aciphex' 'ackerman' 'acknowledge' 'acknowledged' 'acknowledging' 'acl'\n",
      " 'acls' 'acmi' 'acne' 'acneiform' 'acoustic' 'acquired' 'acquisition'\n",
      " 'acromegaly' 'acromial' 'acromioclavicular' 'acromion' 'acromionizer'\n",
      " 'acromioplasty' 'acrylic' 'acrysof' 'acs' 'act' 'acted' 'acticoat'\n",
      " 'acting' 'actinic' 'action' 'actions' 'activase' 'activated' 'activation'\n",
      " 'active' 'actively' 'activities' 'activity' 'actonel' 'actoplus' 'actos'\n",
      " 'acts' 'actual' 'actually' 'acufix' 'acuities' 'acuity' 'acular' 'acumed'\n",
      " 'acuminata' 'acupuncture' 'acusticus' 'acute' 'acutely' 'acyanotic'\n",
      " 'acyclovir' 'ad' 'ada' 'adamant' 'adamantly' 'adapted' 'adapter'\n",
      " 'adaptic' 'adaptor' 'add' 'added' 'addendum' 'adderall' 'addict'\n",
      " 'addicted' 'addiction' 'addictive' 'adding' 'addition' 'additional'\n",
      " 'additionally' 'additive' 'addr' 'address' 'addressed' 'addresses'\n",
      " 'addressing' 'adds' 'adducted' 'adduction' 'adductor' 'adductors' 'adema'\n",
      " 'adeno' 'adenocarcinoma' 'adenoid' 'adenoidal' 'adenoidectomy'\n",
      " 'adenoiditis' 'adenoids' 'adenoma' 'adenomas' 'adenomatous'\n",
      " 'adenomyomatosis' 'adenomyosis' 'adenopathy' 'adenosarcoma' 'adenosine'\n",
      " 'adenotonsillar' 'adenotonsillectomy' 'adenotonsillitis' 'adequacy'\n",
      " 'adequate' 'adequately' 'adhd' 'adhere' 'adhered' 'adherence' 'adherent'\n",
      " 'adherently' 'adhering' 'adhesed' 'adhesiolysis' 'adhesion' 'adhesions'\n",
      " 'adhesive' 'adhesives' 'adipose' 'adiposity' 'adjacent' 'adjoining'\n",
      " 'adjudicate' 'adjunct' 'adjunctive' 'adjust' 'adjustable' 'adjusted'\n",
      " 'adjusting' 'adjustment' 'adjustments' 'adjusts' 'adjuvant' 'adl' 'adls'\n",
      " 'administer' 'administered' 'administering' 'administrated'\n",
      " 'administration' 'administrative' 'administrator' 'admission'\n",
      " 'admissions' 'admit' 'admits' 'admitted' 'admittedly' 'admitting'\n",
      " 'admixed' 'admixture' 'adnexa' 'adnexae' 'adnexal' 'adolescence'\n",
      " 'adolescent' 'adopted' 'adoption' 'adrenal' 'adrenalectomy' 'adrenalin'\n",
      " 'adrenaline' 'adrenals' 'adrenocot' 'adriamycin' 'adson' 'adult'\n",
      " 'adulthood' 'adults' 'advair' 'advance' 'advanced' 'advancement'\n",
      " 'advancements' 'advancing' 'advantage' 'advantages' 'advent'\n",
      " 'adventitial' 'adventitious' 'adverse' 'advice' 'advil' 'advise'\n",
      " 'advised' 'advises' 'ae' 'aerated' 'aeration' 'aerobic' 'aerobics'\n",
      " 'aerosol' 'aerosols' 'aesculap' 'aesthetic' 'af' 'afb' 'afebrile'\n",
      " 'affair' 'affect' 'affected' 'affecting' 'affection' 'affective'\n",
      " 'affects' 'afferent' 'affidavit' 'affix' 'affixed' 'affixing' 'afford'\n",
      " 'affordable' 'afforded' 'afi' 'afib' 'afo' 'afof' 'afore'\n",
      " 'aforementioned' 'afos' 'afraid' 'african' 'afrin' 'aftercare'\n",
      " 'afternoon' 'afterward' 'ag' 'agammaglobulinemia' 'agarose' 'agatston'\n",
      " 'agcl' 'age' 'aged' 'agee' 'ageing' 'agencies' 'agency' 'agent' 'agents'\n",
      " 'ages' 'agglutinins' 'aggravate' 'aggravated' 'aggravates' 'aggravating'\n",
      " 'aggravation' 'aggregate' 'aggregates' 'aggregation' 'aggregations'\n",
      " 'aggrenox' 'aggressive' 'aggressively' 'aging' 'agitated' 'agitation'\n",
      " 'agnosia' 'ago' 'agree' 'agreeable' 'agreed' 'agreement' 'agrees' 'ah'\n",
      " 'ahead' 'ahi' 'ahmed' 'ai' 'aic' 'aica' 'aicd' 'aid' 'aide' 'aided'\n",
      " 'aiding' 'aidp' 'aids' 'aimed' 'air' 'airbag' 'airdrop' 'aired' 'airflow'\n",
      " 'airing' 'airlifted' 'airline' 'airplane' 'airplanes' 'airspace'\n",
      " 'airtight' 'airway' 'airways' 'aka' 'akin' 'akinesia' 'akinesis'\n",
      " 'akinetic' 'al' 'ala' 'alae' 'alameda' 'alar' 'alba' 'albeit' 'albuginea'\n",
      " 'albumin' 'albuquerque' 'albuterol' 'alcohol' 'alcoholic' 'alcoholics'\n",
      " 'alcoholism' 'alcon' 'aldactone' 'aldex' 'aldolase' 'aldosterone'\n",
      " 'alendronate' 'alert']\n"
     ]
    }
   ],
   "source": [
    "# Fit and transform the TRAINING data using only the 'transciption' column values\n",
    "count_train = count_vectorizer.fit_transform(X_train.values)\n",
    "# Transform the TEST data using only the 'transciption' column values\n",
    "count_test = count_vectorizer.transform(X_test.values)\n",
    "\n",
    "# Print the features (individual tokens) of the count_vectorizer\n",
    "print(count_vectorizer.get_feature_names_out()[:500])"
   ]
  },
  {
   "cell_type": "markdown",
   "metadata": {},
   "source": [
    "### Step 4: Train our models here\n",
    "\n",
    "We used the Multinomial Naive Bayes to classify our labels"
   ]
  },
  {
   "cell_type": "code",
   "execution_count": 105,
   "metadata": {},
   "outputs": [
    {
     "name": "stdout",
     "output_type": "stream",
     "text": [
      "[16 16  9  6 20 18 15 13  6 10 18  7  6  7 20 16  1  1 21  1 15  6 16 27\n",
      "  5 16 16  7  1  5 21 16  4 16 16  5 18  6  4  7  1 16  5  1  7  1  1  5\n",
      "  6 13  1  1  1  2  1  1  1 20  7  7  6  6 16  1  2 16 21  7 10 27  1  9\n",
      "  6 13  2 10  4  5 18 16  7  1 16  7  2 20  6  1  4  6 16  4 16 16  9 16\n",
      "  2 16 16  7]\n"
     ]
    }
   ],
   "source": [
    "# Instantiate a Multinomial Naive Bayes classifier\n",
    "nb_clf = MultinomialNB()\n",
    "# Fit the classifier to the training data\n",
    "nb_clf.fit(count_train, y_train)\n",
    "# Create the predicted tags\n",
    "pred = nb_clf.predict(count_test)\n",
    "\n",
    "# Print the predictions for each row of the dataset (1001 rows)\n",
    "print(pred[:100])"
   ]
  },
  {
   "cell_type": "markdown",
   "metadata": {},
   "source": [
    "### Step 4: Evaluate the model\n",
    "\n",
    "We will create an accuracy score and also a confusion matrix."
   ]
  },
  {
   "cell_type": "code",
   "execution_count": 107,
   "metadata": {},
   "outputs": [
    {
     "name": "stdout",
     "output_type": "stream",
     "text": [
      "0.29219143576826195\n",
      "[[ 0  0  0 ...  0  0  0]\n",
      " [ 0 49  0 ...  0  0  0]\n",
      " [ 0  0 11 ...  0  0  0]\n",
      " ...\n",
      " [ 0  0  1 ...  1  0  0]\n",
      " [ 0  0  0 ...  0  0  0]\n",
      " [ 0  0  0 ...  0  0  0]]\n",
      "              precision    recall  f1-score   support\n",
      "\n",
      "           0       0.00      0.00      0.00         8\n",
      "           1       0.36      0.28      0.32       173\n",
      "           2       0.26      0.26      0.26        42\n",
      "           3       0.00      0.00      0.00         5\n",
      "           4       0.31      0.30      0.30        40\n",
      "           5       0.38      0.32      0.35        37\n",
      "           6       0.28      0.34      0.31        56\n",
      "           7       0.39      0.44      0.42        68\n",
      "           8       0.00      0.00      0.00        12\n",
      "           9       0.29      0.14      0.19        14\n",
      "          10       0.10      0.09      0.09        44\n",
      "          11       0.00      0.00      0.00        12\n",
      "          12       0.00      0.00      0.00         3\n",
      "          13       0.13      0.10      0.11        20\n",
      "          14       0.00      0.00      0.00         4\n",
      "          15       0.56      0.56      0.56         9\n",
      "          16       0.26      0.62      0.37        85\n",
      "          17       0.00      0.00      0.00         3\n",
      "          18       0.11      0.21      0.15        14\n",
      "          19       0.40      0.43      0.42        23\n",
      "          20       0.21      0.21      0.21        24\n",
      "          21       0.47      0.33      0.39        21\n",
      "          22       1.00      0.50      0.67         2\n",
      "          23       0.00      0.00      0.00         4\n",
      "          24       0.00      0.00      0.00         2\n",
      "          25       0.00      0.00      0.00         8\n",
      "          26       0.00      0.00      0.00         3\n",
      "          27       0.45      0.36      0.40        14\n",
      "          28       0.00      0.00      0.00         2\n",
      "          29       0.00      0.00      0.00         4\n",
      "          30       0.00      0.00      0.00         9\n",
      "          31       0.00      0.00      0.00         4\n",
      "          32       0.00      0.00      0.00         3\n",
      "          33       0.00      0.00      0.00         3\n",
      "          34       0.33      0.12      0.18         8\n",
      "          35       0.00      0.00      0.00         2\n",
      "          36       0.00      0.00      0.00         1\n",
      "          37       1.00      0.25      0.40         4\n",
      "          38       0.00      0.00      0.00         2\n",
      "          39       0.00      0.00      0.00         2\n",
      "\n",
      "    accuracy                           0.29       794\n",
      "   macro avg       0.18      0.15      0.15       794\n",
      "weighted avg       0.28      0.29      0.27       794\n",
      "\n"
     ]
    },
    {
     "name": "stderr",
     "output_type": "stream",
     "text": [
      "/Users/adamyeo/opt/miniconda3/envs/BASICBIO/lib/python3.10/site-packages/sklearn/metrics/_classification.py:1327: UndefinedMetricWarning: Precision and F-score are ill-defined and being set to 0.0 in labels with no predicted samples. Use `zero_division` parameter to control this behavior.\n",
      "  _warn_prf(average, modifier, msg_start, len(result))\n",
      "/Users/adamyeo/opt/miniconda3/envs/BASICBIO/lib/python3.10/site-packages/sklearn/metrics/_classification.py:1327: UndefinedMetricWarning: Precision and F-score are ill-defined and being set to 0.0 in labels with no predicted samples. Use `zero_division` parameter to control this behavior.\n",
      "  _warn_prf(average, modifier, msg_start, len(result))\n",
      "/Users/adamyeo/opt/miniconda3/envs/BASICBIO/lib/python3.10/site-packages/sklearn/metrics/_classification.py:1327: UndefinedMetricWarning: Precision and F-score are ill-defined and being set to 0.0 in labels with no predicted samples. Use `zero_division` parameter to control this behavior.\n",
      "  _warn_prf(average, modifier, msg_start, len(result))\n"
     ]
    }
   ],
   "source": [
    "# Calculate the accuracy score\n",
    "score = metrics.accuracy_score(y_test, pred)\n",
    "# Calculate the confusion matrix\n",
    "conf_matrix = metrics.confusion_matrix(y_test, pred)\n",
    "\n",
    "print(score)\n",
    "print(conf_matrix)\n",
    "print(classification_report(y_test, pred))"
   ]
  },
  {
   "cell_type": "code",
   "execution_count": null,
   "metadata": {},
   "outputs": [],
   "source": []
  }
 ],
 "metadata": {
  "kernelspec": {
   "display_name": "Python 3 (ipykernel)",
   "language": "python",
   "name": "python3"
  },
  "language_info": {
   "codemirror_mode": {
    "name": "ipython",
    "version": 3
   },
   "file_extension": ".py",
   "mimetype": "text/x-python",
   "name": "python",
   "nbconvert_exporter": "python",
   "pygments_lexer": "ipython3",
   "version": "3.10.4"
  },
  "vscode": {
   "interpreter": {
    "hash": "9ce98d6a59ba4c585b822c83f97ca15f1c905b852a0710f5a850035c25558f04"
   }
  }
 },
 "nbformat": 4,
 "nbformat_minor": 2
}
