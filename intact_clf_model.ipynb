{
 "cells": [
  {
   "cell_type": "markdown",
   "metadata": {},
   "source": [
    "# Intact Medical Specialty Classification Model using NLP\n",
    "\n",
    "### By: Daniyal, Hibah, Abhishek and Adam"
   ]
  },
  {
   "cell_type": "markdown",
   "metadata": {},
   "source": [
    "### Step 1: Import libraries and read in the data\n",
    "\n",
    "We'll add more libraries, as we move on."
   ]
  },
  {
   "cell_type": "code",
   "execution_count": 162,
   "metadata": {
    "scrolled": true
   },
   "outputs": [
    {
     "name": "stdout",
     "output_type": "stream",
     "text": [
      "Test size with duplicates:  3969\n",
      "Test size without duplicates:  2255\n"
     ]
    },
    {
     "name": "stderr",
     "output_type": "stream",
     "text": [
      "[nltk_data] Downloading package wordnet to /Users/adamyeo/nltk_data...\n",
      "[nltk_data]   Package wordnet is already up-to-date!\n",
      "[nltk_data] Downloading package omw-1.4 to /Users/adamyeo/nltk_data...\n",
      "[nltk_data]   Package omw-1.4 is already up-to-date!\n",
      "[nltk_data] Downloading package punkt to /Users/adamyeo/nltk_data...\n",
      "[nltk_data]   Package punkt is already up-to-date!\n",
      "[nltk_data] Downloading package averaged_perceptron_tagger to\n",
      "[nltk_data]     /Users/adamyeo/nltk_data...\n",
      "[nltk_data]   Package averaged_perceptron_tagger is already up-to-\n",
      "[nltk_data]       date!\n"
     ]
    },
    {
     "data": {
      "text/html": [
       "<div>\n",
       "<style scoped>\n",
       "    .dataframe tbody tr th:only-of-type {\n",
       "        vertical-align: middle;\n",
       "    }\n",
       "\n",
       "    .dataframe tbody tr th {\n",
       "        vertical-align: top;\n",
       "    }\n",
       "\n",
       "    .dataframe thead th {\n",
       "        text-align: right;\n",
       "    }\n",
       "</style>\n",
       "<table border=\"1\" class=\"dataframe\">\n",
       "  <thead>\n",
       "    <tr style=\"text-align: right;\">\n",
       "      <th></th>\n",
       "      <th>medical_specialty</th>\n",
       "      <th>transcription</th>\n",
       "      <th>labels</th>\n",
       "    </tr>\n",
       "  </thead>\n",
       "  <tbody>\n",
       "    <tr>\n",
       "      <th>0</th>\n",
       "      <td>Emergency Room Reports</td>\n",
       "      <td>REASON FOR THE VISIT:,  Very high PT/INR.,HIST...</td>\n",
       "      <td>0</td>\n",
       "    </tr>\n",
       "    <tr>\n",
       "      <th>1</th>\n",
       "      <td>Surgery</td>\n",
       "      <td>PREOPERATIVE DIAGNOSIS:,  Acetabular fracture ...</td>\n",
       "      <td>1</td>\n",
       "    </tr>\n",
       "    <tr>\n",
       "      <th>2</th>\n",
       "      <td>Surgery</td>\n",
       "      <td>NAME OF PROCEDURE,1.  Selective coronary angio...</td>\n",
       "      <td>1</td>\n",
       "    </tr>\n",
       "    <tr>\n",
       "      <th>3</th>\n",
       "      <td>Radiology</td>\n",
       "      <td>REFERRING DIAGNOSIS: , Motor neuron disease.,P...</td>\n",
       "      <td>2</td>\n",
       "    </tr>\n",
       "    <tr>\n",
       "      <th>4</th>\n",
       "      <td>Emergency Room Reports</td>\n",
       "      <td>CHIEF COMPLAINT: , Dental pain.,HISTORY OF PRE...</td>\n",
       "      <td>0</td>\n",
       "    </tr>\n",
       "    <tr>\n",
       "      <th>...</th>\n",
       "      <td>...</td>\n",
       "      <td>...</td>\n",
       "      <td>...</td>\n",
       "    </tr>\n",
       "    <tr>\n",
       "      <th>3957</th>\n",
       "      <td>Orthopedic</td>\n",
       "      <td>PREOPERATIVE DIAGNOSIS: , Right hip osteoarthr...</td>\n",
       "      <td>6</td>\n",
       "    </tr>\n",
       "    <tr>\n",
       "      <th>3959</th>\n",
       "      <td>Surgery</td>\n",
       "      <td>PREOPERATIVE DIAGNOSIS: , Left knee medial fem...</td>\n",
       "      <td>1</td>\n",
       "    </tr>\n",
       "    <tr>\n",
       "      <th>3975</th>\n",
       "      <td>Surgery</td>\n",
       "      <td>DELIVERY NOTE: , The patient is a very pleasan...</td>\n",
       "      <td>1</td>\n",
       "    </tr>\n",
       "    <tr>\n",
       "      <th>3977</th>\n",
       "      <td>Urology</td>\n",
       "      <td>PREOPERATIVE DX: , Stress urinary incontinence...</td>\n",
       "      <td>20</td>\n",
       "    </tr>\n",
       "    <tr>\n",
       "      <th>3999</th>\n",
       "      <td>Surgery</td>\n",
       "      <td>PREOPERATIVE DIAGNOSIS: , Right pleural effusi...</td>\n",
       "      <td>1</td>\n",
       "    </tr>\n",
       "  </tbody>\n",
       "</table>\n",
       "<p>2255 rows × 3 columns</p>\n",
       "</div>"
      ],
      "text/plain": [
       "            medical_specialty  \\\n",
       "0      Emergency Room Reports   \n",
       "1                     Surgery   \n",
       "2                     Surgery   \n",
       "3                   Radiology   \n",
       "4      Emergency Room Reports   \n",
       "...                       ...   \n",
       "3957               Orthopedic   \n",
       "3959                  Surgery   \n",
       "3975                  Surgery   \n",
       "3977                  Urology   \n",
       "3999                  Surgery   \n",
       "\n",
       "                                          transcription  labels  \n",
       "0     REASON FOR THE VISIT:,  Very high PT/INR.,HIST...       0  \n",
       "1     PREOPERATIVE DIAGNOSIS:,  Acetabular fracture ...       1  \n",
       "2     NAME OF PROCEDURE,1.  Selective coronary angio...       1  \n",
       "3     REFERRING DIAGNOSIS: , Motor neuron disease.,P...       2  \n",
       "4     CHIEF COMPLAINT: , Dental pain.,HISTORY OF PRE...       0  \n",
       "...                                                 ...     ...  \n",
       "3957  PREOPERATIVE DIAGNOSIS: , Right hip osteoarthr...       6  \n",
       "3959  PREOPERATIVE DIAGNOSIS: , Left knee medial fem...       1  \n",
       "3975  DELIVERY NOTE: , The patient is a very pleasan...       1  \n",
       "3977  PREOPERATIVE DX: , Stress urinary incontinence...      20  \n",
       "3999  PREOPERATIVE DIAGNOSIS: , Right pleural effusi...       1  \n",
       "\n",
       "[2255 rows x 3 columns]"
      ]
     },
     "execution_count": 162,
     "metadata": {},
     "output_type": "execute_result"
    }
   ],
   "source": [
    "import pandas as pd\n",
    "import re\n",
    "from sklearn.feature_extraction.text import CountVectorizer\n",
    "from sklearn.feature_extraction import _stop_words\n",
    "from sklearn.model_selection import train_test_split\n",
    "from sklearn.naive_bayes import MultinomialNB\n",
    "from sklearn import metrics\n",
    "from sklearn.metrics import classification_report\n",
    "from nltk.stem import WordNetLemmatizer\n",
    "from nltk.corpus import wordnet\n",
    "import nltk\n",
    "import spacy\n",
    "nltk.download('wordnet')\n",
    "nltk.download('omw-1.4')\n",
    "nltk.download('punkt')\n",
    "nltk.download('averaged_perceptron_tagger')\n",
    "\n",
    "df = pd.read_csv(\"new_train.csv\", index_col=0)\n",
    "print(\"Test size with duplicates: \", len(df))\n",
    "df = df.drop_duplicates(subset=['transcription'])\n",
    "print(\"Test size without duplicates: \", len(df))\n",
    "df"
   ]
  },
  {
   "cell_type": "markdown",
   "metadata": {},
   "source": [
    "### Step 2: Pre-process our data\n",
    "\n",
    "I think this is the most important step here, the ML model is only as good as its dataset, so we gotta make sure it's squeaky clean.\n",
    "\n",
    "All of the basic pre-processing is done by the CountVectorizer, these tasks include:\n",
    "- Tokenize (divide words individually)\n",
    "- Remove stop-words (remove \"the, and, to, or, ...\"; other special characters)\n",
    "- Lemmatize (convert similar words into its base root; eating, eats, ate => eat)"
   ]
  },
  {
   "cell_type": "code",
   "execution_count": 103,
   "metadata": {
    "scrolled": true
   },
   "outputs": [
    {
     "name": "stdout",
     "output_type": "stream",
     "text": [
      "Label size:  2255\n"
     ]
    },
    {
     "data": {
      "text/plain": [
       "0        0\n",
       "1        1\n",
       "2        1\n",
       "3        2\n",
       "4        0\n",
       "        ..\n",
       "3957     6\n",
       "3959     1\n",
       "3975     1\n",
       "3977    20\n",
       "3999     1\n",
       "Name: labels, Length: 2255, dtype: int64"
      ]
     },
     "execution_count": 103,
     "metadata": {},
     "output_type": "execute_result"
    }
   ],
   "source": [
    "# Create labels/target values\n",
    "y = df.labels\n",
    "print(\"Label size: \", len(y))\n",
    "y"
   ]
  },
  {
   "cell_type": "code",
   "execution_count": 155,
   "metadata": {
    "scrolled": true
   },
   "outputs": [
    {
     "name": "stdout",
     "output_type": "stream",
     "text": [
      "X_train size:  2029\n",
      "y_train size:  2029\n",
      "X_test size:  226\n",
      "y_test size:  226\n"
     ]
    }
   ],
   "source": [
    "# Split the data into training and testing sets\n",
    "X_train, X_test, y_train, y_test = train_test_split(df[\"transcription\"], y, test_size=0.1, random_state=53)\n",
    "\n",
    "# X_train: training data of features\n",
    "print(\"X_train size: \", len(X_train))\n",
    "# y_train: training data of label\n",
    "print(\"y_train size: \", len(y_train))\n",
    "\n",
    "# X_test: test data of features\n",
    "print(\"X_test size: \", len(X_test))\n",
    "# y_test: test data of label\n",
    "print(\"y_test size: \", len(y_test))\n",
    "\n",
    "# X_train\n",
    "# y_train[:50]\n",
    "# X_test\n",
    "# y_test"
   ]
  },
  {
   "cell_type": "code",
   "execution_count": 156,
   "metadata": {},
   "outputs": [
    {
     "name": "stdout",
     "output_type": "stream",
     "text": [
      "<class 'sklearn.feature_extraction.text.CountVectorizer'>\n",
      "strawberry\n"
     ]
    }
   ],
   "source": [
    "# Instantiate the WordNetLemmatizer\n",
    "wordnet_lemmatizer = WordNetLemmatizer()\n",
    "# we could try stemming as well\n",
    "\n",
    "with open(\"words_alpha.txt\") as word_file:\n",
    "    english_words = set(word.strip().lower() for word in word_file)\n",
    "with open(\"medical_terms.txt\") as word_file:\n",
    "    medical_words = set(word.strip().lower() for word in word_file)\n",
    "def is_english_word(word):\n",
    "    return ((word.lower() in english_words) or (word.lower() in medical_words))\n",
    "\n",
    "# Custom pre-processing function\n",
    "def preprocess_data(text):\n",
    "    text = text.lower()\n",
    "    text = re.sub(r'\\d|_', '', text) # removes words with digits and '_'\n",
    "    text = wordnet_lemmatizer.lemmatize(text)\n",
    "    return text\n",
    "\n",
    "\n",
    "# Initialize a CountVectorizer object\n",
    "count_vectorizer = CountVectorizer(stop_words=\"english\", preprocessor=preprocess_data) # work on more pre-processing\n",
    "\n",
    "print(type(count_vectorizer))\n",
    "\n",
    "print(wordnet_lemmatizer.lemmatize(\"strawberries\"))"
   ]
  },
  {
   "cell_type": "markdown",
   "metadata": {},
   "source": [
    "### Step 3: Fit and Transform the Data\n",
    "\n",
    "Specifically, we must fit AND transform the feature training data and only transform the feature test data.\n",
    "This is a preliminary step.\n",
    "\n",
    "In fit_transform(), what happens is that we calculate the mean and variance of the training data and standardize the entire dataset (hence, transform). We only need transform() for the test data because we are using the mean and variance of the training data to standardize the test data."
   ]
  },
  {
   "cell_type": "code",
   "execution_count": 157,
   "metadata": {},
   "outputs": [
    {
     "name": "stdout",
     "output_type": "stream",
     "text": [
      "Number of words:  19582\n",
      "['aa' 'ab' 'abadeedleedlebadle' 'abandoned' 'abandonment' 'abated'\n",
      " 'abbreviated' 'abc' 'abcd' 'abcg' 'abciximab' 'abd' 'abdomen' 'abdominal'\n",
      " 'abdominally' 'abdominis' 'abdominoplasty' 'abdominosacrocolpopexy'\n",
      " 'abdominus' 'abds' 'abduct' 'abducted' 'abduction' 'abducto' 'abductor'\n",
      " 'abductors' 'abductovalgus' 'abductus' 'aberrant' 'aberration' 'abf'\n",
      " 'abg' 'abgs' 'abilify' 'abilities' 'ability' 'ablate' 'ablated'\n",
      " 'ablation' 'ablative' 'able' 'abnormal' 'abnormalities' 'abnormality'\n",
      " 'abnormally' 'abnormities' 'abo' 'abolish' 'abort' 'aborted' 'abortion'\n",
      " 'abortions' 'abortive' 'abovementioned' 'abraded' 'abrading' 'abrasion'\n",
      " 'abrasions' 'abraxane' 'abreast' 'abrogated' 'abrogation' 'abrupt'\n",
      " 'abruptio' 'abruption' 'abruptly' 'abs' 'abscess' 'abscesses' 'absence'\n",
      " 'absent' 'absolute' 'absolutely' 'absorb' 'absorbable' 'absorbables'\n",
      " 'absorbing' 'absorption' 'abstain' 'abstinence' 'abstraction'\n",
      " 'abstractions' 'abundant' 'abundantly' 'abuse' 'abused' 'abuser'\n",
      " 'abusing' 'abusive' 'abut' 'abutments' 'abuts' 'abutting' 'ac' 'aca'\n",
      " 'academic' 'academy' 'acalculous' 'acanthosis' 'acathexia' 'accelerate'\n",
      " 'accelerated' 'accelerating' 'acceleration' 'accelerations' 'accentuate'\n",
      " 'accentuated' 'accept' 'acceptable' 'accepted' 'accepting' 'accepts'\n",
      " 'access' 'accessed' 'accesses' 'accessing' 'accessory' 'accident'\n",
      " 'accidental' 'accidentally' 'accidents' 'accommodate' 'accommodated'\n",
      " 'accommodation' 'accommodative' 'accompanied' 'accompanies' 'accompany'\n",
      " 'accompanying' 'accomplish' 'accomplished' 'accomplishing' 'accordance'\n",
      " 'according' 'accordingly' 'account' 'accounted' 'accounting' 'accounts'\n",
      " 'accu' 'accumulate' 'accumulating' 'accumulation' 'accumulations'\n",
      " 'accupril' 'accuracy' 'accurate' 'accurately' 'accurus' 'accusation'\n",
      " 'accutane' 'acdf' 'ace' 'acellular' 'acetabular' 'acetabulum'\n",
      " 'acetaminophen' 'acetate' 'acetazolamide' 'acetic' 'aceto' 'acetowhite'\n",
      " 'acetyl' 'acetylcholine' 'acf' 'achalasia' 'ache' 'aches' 'achieve'\n",
      " 'achieved' 'achievement' 'achieves' 'achieving' 'achilles' 'achiness'\n",
      " 'aching' 'achy' 'acid' 'acidic' 'acidophilus' 'acidosis' 'acidotic'\n",
      " 'acids' 'aciphex' 'ackerman' 'acknowledge' 'acknowledged' 'acknowledging'\n",
      " 'acl' 'acls' 'acmi' 'acne' 'acneiform' 'acoustic' 'acquired'\n",
      " 'acquisition' 'acromegaly' 'acromial' 'acromioclavicular' 'acromion'\n",
      " 'acromionizer' 'acrysof' 'acs' 'act' 'acted' 'acticoat' 'acting'\n",
      " 'actinic' 'action' 'actions' 'activated' 'activation' 'activator'\n",
      " 'active' 'actively' 'activities' 'activity' 'actonel' 'actoplus' 'actos'\n",
      " 'acts' 'actual' 'actually' 'acufix' 'acuities' 'acuity' 'acular' 'acumed'\n",
      " 'acuminata' 'acupuncture' 'acusticus' 'acute' 'acutely' 'acyanotic'\n",
      " 'acyclovir' 'ad' 'ada' 'adamant' 'adamantly' 'adapted' 'adapter'\n",
      " 'adaptic' 'adaptor' 'add' 'added' 'addendum' 'adderall' 'addict'\n",
      " 'addiction' 'addictive' 'adding' 'addison' 'addition' 'additional'\n",
      " 'additionally' 'additive' 'addr' 'address' 'addressed' 'addresses'\n",
      " 'addressing' 'adds' 'adducted' 'adduction' 'adductor' 'adductors' 'adema'\n",
      " 'adeno' 'adenocarcinoma' 'adenoid' 'adenoidal' 'adenoidectomy'\n",
      " 'adenoiditis' 'adenoids' 'adenoma' 'adenomatous' 'adenomyomatosis'\n",
      " 'adenomyosis' 'adenopathy' 'adenosarcoma' 'adenosine' 'adenotonsillar'\n",
      " 'adenotonsillectomy' 'adenotonsillitis' 'adequacy' 'adequate'\n",
      " 'adequately' 'adhd' 'adhere' 'adhered' 'adherence' 'adherent'\n",
      " 'adherently' 'adhering' 'adhesed' 'adhesiolysis' 'adhesion' 'adhesions'\n",
      " 'adhesive' 'adhesives' 'adipose' 'adiposity' 'adjacent' 'adjoining'\n",
      " 'adjudicate' 'adjunct' 'adjunctive' 'adjust' 'adjustable' 'adjusted'\n",
      " 'adjusting' 'adjustment' 'adjustments' 'adjusts' 'adjuvant' 'adl' 'adls'\n",
      " 'administer' 'administered' 'administering' 'administrated'\n",
      " 'administration' 'administrative' 'administrator' 'admission'\n",
      " 'admissions' 'admit' 'admits' 'admitted' 'admittedly' 'admitting'\n",
      " 'admixed' 'admixture' 'adnexa' 'adnexae' 'adnexal' 'adolescence'\n",
      " 'adolescent' 'adopted' 'adoption' 'adrenal' 'adrenalectomy' 'adrenalin'\n",
      " 'adrenaline' 'adrenals' 'adrenocot' 'adriamycin' 'adult' 'adults'\n",
      " 'advair' 'advance' 'advanced' 'advancement' 'advancements' 'advancing'\n",
      " 'advantage' 'advantages' 'advent' 'adventitial' 'adventitious'\n",
      " 'adventure' 'adverse' 'advice' 'advil' 'advise' 'advised' 'advises' 'ae'\n",
      " 'aerated' 'aeration' 'aerobic' 'aerobics' 'aerosol' 'aerosols' 'aesculap'\n",
      " 'aesthetic' 'af' 'afb' 'afebrile' 'affair' 'affect' 'affected'\n",
      " 'affecting' 'affective' 'affectively' 'affects' 'afferent' 'affidavit'\n",
      " 'affix' 'affixed' 'affixing' 'afforded' 'afi' 'afib' 'afo' 'afof' 'afore'\n",
      " 'aforementioned' 'afos' 'afraid' 'african' 'afrin' 'aftercare'\n",
      " 'afternoon' 'afterward' 'ag' 'agammaglobulinemia' 'agatston' 'agcl' 'age'\n",
      " 'aged' 'agee' 'agencies' 'agency' 'agent' 'agents' 'ages' 'agglutinins'\n",
      " 'aggravate' 'aggravated' 'aggravates' 'aggravating' 'aggravation'\n",
      " 'aggregate' 'aggregates' 'aggregation' 'aggregations' 'aggrenox'\n",
      " 'aggressive' 'aggressively' 'aging' 'agitated' 'agitation' 'agnosia'\n",
      " 'ago' 'agoraphobia' 'agree' 'agreeable' 'agreed' 'agreement' 'agrees'\n",
      " 'ah' 'ahead' 'ahi' 'ahmed' 'ai' 'aica' 'aicd' 'aid' 'aide' 'aided'\n",
      " 'aiding' 'aids' 'aimed' 'air' 'airbag' 'airdrop' 'aired' 'airflow'\n",
      " 'airing' 'airlifted' 'airline' 'airplane' 'airplanes' 'airspace'\n",
      " 'airtight' 'airway' 'airways' 'aka' 'akin' 'akinesia' 'akinesis'\n",
      " 'akinetic' 'al' 'ala' 'alae' 'alameda' 'alar' 'alarm' 'alarmed' 'alba'\n",
      " 'albeit' 'albicantia' 'albuginea' 'albumin' 'albuquerque' 'albuterol'\n",
      " 'alcohol' 'alcoholic' 'alcoholics' 'alcoholism' 'alcon' 'aldactone'\n",
      " 'aldolase' 'aldosterone' 'alendronate' 'alert' 'alerted' 'alertness'\n",
      " 'alesse']\n"
     ]
    }
   ],
   "source": [
    "# Fit and transform the TRAINING data using only the 'transciption' column values\n",
    "count_train = count_vectorizer.fit_transform(X_train.values)\n",
    "# Transform the TEST data using only the 'transciption' column values\n",
    "count_test = count_vectorizer.transform(X_test.values)\n",
    "\n",
    "\n",
    "# Print number of words processing\n",
    "print(\"Number of words: \", len(count_vectorizer.get_feature_names_out())) # number of test data from split\n",
    "# Print the features (individual tokens) of the count_vectorizer\n",
    "print(count_vectorizer.get_feature_names_out()[:500])"
   ]
  },
  {
   "cell_type": "markdown",
   "metadata": {},
   "source": [
    "### Step 4: Train our models here\n",
    "\n",
    "We used the Multinomial Naive Bayes to classify our labels"
   ]
  },
  {
   "cell_type": "code",
   "execution_count": 160,
   "metadata": {},
   "outputs": [
    {
     "name": "stdout",
     "output_type": "stream",
     "text": [
      "Number of predictions:  226\n",
      "[ 6  9 16  1  1 16 16  1 16 16  1 16  6  1 16 15  1 16  7  2  7  6  1 34\n",
      "  2  1  1 16  6 16 16 16  1  7  1  1 14  6  1  1  1  4 16  5 16  1  2  1\n",
      "  2  1  1 16  1 16  4  7 16  5  4  6 16  7 16 16  1 16 16 16 20  4 16  1\n",
      " 18  1  6 16 16  4 16 16  1 16 16 19  4  1  1  7  6 16 16  2 16 15  1  1\n",
      "  5 16  1 16 19 16  1  1 21 16 16  1  4 16  1  1  6 16  2 16  6  1 16  5\n",
      "  1 20  7  7  6  1  1  2  1  6  6  1 16 16 16  6  2  1  1 16 15  7  5  2\n",
      "  1 16  1  5  7  1 16  7 27 16  1  1  7 16 16  1  6  2 21  2 27  1  1  1\n",
      "  7 21  1 16 16  6  1  1 16 16  1 16  2  1  1 16  1  1  9 16  1 16  7  1\n",
      " 27  1  5  1  6  2  6  1 16  1  1 16  1 16 16 19  1 34 16 16  1 27 16 16\n",
      "  6 21 16  1 16  1  1 16  5 16]\n"
     ]
    }
   ],
   "source": [
    "# Instantiate a Multinomial Naive Bayes classifier\n",
    "nb_clf = MultinomialNB()\n",
    "# Fit the classifier to the training data\n",
    "nb_clf.fit(count_train, y_train)\n",
    "# Create the predicted tags\n",
    "pred = nb_clf.predict(count_test)\n",
    "\n",
    "# Print the predictions for each row of the dataset (1001 rows)\n",
    "print(\"Number of predictions: \", len(pred)) # Equal to the number of test data (when it got split)\n",
    "print(pred)"
   ]
  },
  {
   "cell_type": "markdown",
   "metadata": {},
   "source": [
    "### Step 4: Evaluate the model\n",
    "\n",
    "We will create an accuracy score and also a confusion matrix.\n",
    "\n",
    "Precision = TP/(TP + FP)\n",
    "\n",
    "Recall = TP/(TP+FN)\n",
    "\n",
    "F1 Score = 2*(Recall * Precision) / (Recall + Precision)"
   ]
  },
  {
   "cell_type": "code",
   "execution_count": 159,
   "metadata": {
    "scrolled": true
   },
   "outputs": [
    {
     "name": "stdout",
     "output_type": "stream",
     "text": [
      "0.35398230088495575\n",
      "[[  0   0   0 ...   0   0   0]\n",
      " [  0 156   0 ...   0   0   0]\n",
      " [  0   5  16 ...   0   0   0]\n",
      " ...\n",
      " [  0   0   0 ...   1   0   0]\n",
      " [  0   0   0 ...   0   0   0]\n",
      " [  0   0   0 ...   0   0   0]]\n",
      "              precision    recall  f1-score   support\n",
      "\n",
      "           0       0.00      0.00      0.00         3\n",
      "           1       0.53      0.63      0.58        60\n",
      "           2       0.31      0.25      0.28        16\n",
      "           3       0.00      0.00      0.00         2\n",
      "           4       0.29      0.20      0.24        10\n",
      "           5       0.50      0.50      0.50         8\n",
      "           6       0.32      0.32      0.32        19\n",
      "           7       0.50      0.41      0.45        17\n",
      "           8       0.00      0.00      0.00         2\n",
      "           9       0.00      0.00      0.00         2\n",
      "          10       0.00      0.00      0.00         9\n",
      "          11       0.00      0.00      0.00         4\n",
      "          12       0.00      0.00      0.00         1\n",
      "          13       0.00      0.00      0.00         9\n",
      "          14       0.00      0.00      0.00         0\n",
      "          15       0.00      0.00      0.00         2\n",
      "          16       0.20      0.78      0.31        18\n",
      "          18       0.00      0.00      0.00         2\n",
      "          19       0.67      0.20      0.31        10\n",
      "          20       0.00      0.00      0.00         7\n",
      "          21       0.25      0.25      0.25         4\n",
      "          23       0.00      0.00      0.00         1\n",
      "          24       0.00      0.00      0.00         1\n",
      "          25       0.00      0.00      0.00         1\n",
      "          27       0.25      0.33      0.29         3\n",
      "          28       0.00      0.00      0.00         1\n",
      "          30       0.00      0.00      0.00         4\n",
      "          31       0.00      0.00      0.00         1\n",
      "          33       0.00      0.00      0.00         1\n",
      "          34       0.50      0.20      0.29         5\n",
      "          35       0.00      0.00      0.00         1\n",
      "          38       0.00      0.00      0.00         1\n",
      "          39       0.00      0.00      0.00         1\n",
      "\n",
      "    accuracy                           0.35       226\n",
      "   macro avg       0.13      0.12      0.12       226\n",
      "weighted avg       0.32      0.35      0.31       226\n",
      "\n"
     ]
    },
    {
     "name": "stderr",
     "output_type": "stream",
     "text": [
      "/Users/adamyeo/opt/miniconda3/envs/BASICBIO/lib/python3.10/site-packages/sklearn/metrics/_classification.py:1327: UndefinedMetricWarning: Precision and F-score are ill-defined and being set to 0.0 in labels with no predicted samples. Use `zero_division` parameter to control this behavior.\n",
      "  _warn_prf(average, modifier, msg_start, len(result))\n",
      "/Users/adamyeo/opt/miniconda3/envs/BASICBIO/lib/python3.10/site-packages/sklearn/metrics/_classification.py:1327: UndefinedMetricWarning: Recall and F-score are ill-defined and being set to 0.0 in labels with no true samples. Use `zero_division` parameter to control this behavior.\n",
      "  _warn_prf(average, modifier, msg_start, len(result))\n",
      "/Users/adamyeo/opt/miniconda3/envs/BASICBIO/lib/python3.10/site-packages/sklearn/metrics/_classification.py:1327: UndefinedMetricWarning: Precision and F-score are ill-defined and being set to 0.0 in labels with no predicted samples. Use `zero_division` parameter to control this behavior.\n",
      "  _warn_prf(average, modifier, msg_start, len(result))\n",
      "/Users/adamyeo/opt/miniconda3/envs/BASICBIO/lib/python3.10/site-packages/sklearn/metrics/_classification.py:1327: UndefinedMetricWarning: Recall and F-score are ill-defined and being set to 0.0 in labels with no true samples. Use `zero_division` parameter to control this behavior.\n",
      "  _warn_prf(average, modifier, msg_start, len(result))\n",
      "/Users/adamyeo/opt/miniconda3/envs/BASICBIO/lib/python3.10/site-packages/sklearn/metrics/_classification.py:1327: UndefinedMetricWarning: Precision and F-score are ill-defined and being set to 0.0 in labels with no predicted samples. Use `zero_division` parameter to control this behavior.\n",
      "  _warn_prf(average, modifier, msg_start, len(result))\n",
      "/Users/adamyeo/opt/miniconda3/envs/BASICBIO/lib/python3.10/site-packages/sklearn/metrics/_classification.py:1327: UndefinedMetricWarning: Recall and F-score are ill-defined and being set to 0.0 in labels with no true samples. Use `zero_division` parameter to control this behavior.\n",
      "  _warn_prf(average, modifier, msg_start, len(result))\n"
     ]
    }
   ],
   "source": [
    "# Calculate the accuracy score\n",
    "score = metrics.accuracy_score(y_test, pred)\n",
    "# Calculate the confusion matrix\n",
    "# conf_matrix = metrics.confusion_matrix(y_test, pred)\n",
    "\n",
    "\n",
    "print(score)\n",
    "print(conf_matrix)\n",
    "print(classification_report(y_test, pred))"
   ]
  }
 ],
 "metadata": {
  "kernelspec": {
   "display_name": "Python 3 (ipykernel)",
   "language": "python",
   "name": "python3"
  },
  "language_info": {
   "codemirror_mode": {
    "name": "ipython",
    "version": 3
   },
   "file_extension": ".py",
   "mimetype": "text/x-python",
   "name": "python",
   "nbconvert_exporter": "python",
   "pygments_lexer": "ipython3",
   "version": "3.10.4"
  },
  "vscode": {
   "interpreter": {
    "hash": "9ce98d6a59ba4c585b822c83f97ca15f1c905b852a0710f5a850035c25558f04"
   }
  }
 },
 "nbformat": 4,
 "nbformat_minor": 2
}
