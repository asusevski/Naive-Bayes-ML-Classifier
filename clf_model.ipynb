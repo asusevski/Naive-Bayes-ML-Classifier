{
 "cells": [
  {
   "cell_type": "markdown",
   "id": "047155f5",
   "metadata": {},
   "source": []
  },
  {
   "cell_type": "code",
   "execution_count": null,
   "id": "19001c07",
   "metadata": {},
   "outputs": [],
   "source": []
  }
 ],
 "metadata": {
  "kernelspec": {
<<<<<<< HEAD
   "display_name": "Python 3",
=======
   "display_name": "Python 3.9.6 64-bit",
>>>>>>> 0ea69cb4829e5e5b7db95d2a9a5d419244c1e834
   "language": "python",
   "name": "python3"
  },
  "language_info": {
   "codemirror_mode": {
    "name": "ipython",
    "version": 3
   },
   "file_extension": ".py",
   "mimetype": "text/x-python",
   "name": "python",
   "nbconvert_exporter": "python",
   "pygments_lexer": "ipython3",
<<<<<<< HEAD
   "version": "3.10.10"
  },
  "vscode": {
   "interpreter": {
    "hash": "8a284d3288711230a24215974ec0abd0aa85c769b4796ecd862439a60db1f8ee"
=======
   "version": "3.9.6"
  },
  "vscode": {
   "interpreter": {
    "hash": "7812ea015bdcee6f23a998adcdd2ef97c151c0c241b7b7070987d9313e41299d"
>>>>>>> 0ea69cb4829e5e5b7db95d2a9a5d419244c1e834
   }
  }
 },
 "nbformat": 4,
 "nbformat_minor": 5
}
