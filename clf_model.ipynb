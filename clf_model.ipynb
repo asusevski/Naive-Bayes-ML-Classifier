{
 "cells": [
  {
   "cell_type": "markdown",
   "id": "047155f5",
   "metadata": {},
   "source": []
  },
  {
   "cell_type": "code",
   "execution_count": null,
   "id": "19001c07",
   "metadata": {},
   "outputs": [],
   "source": []
  }
 ],
 "metadata": {
  "kernelspec": {
   "display_name": "BASICBIO",
   "language": "python",
   "name": "python3"
  },
  "language_info": {
   "codemirror_mode": {
    "name": "ipython",
    "version": 3
   },
   "file_extension": ".py",
   "mimetype": "text/x-python",
   "name": "python",
   "nbconvert_exporter": "python",
   "pygments_lexer": "ipython3",
   "version": "3.10.4"
  },
  "vscode": {
   "interpreter": {
    "hash": "9ce98d6a59ba4c585b822c83f97ca15f1c905b852a0710f5a850035c25558f04"
   }
  }
 },
 "nbformat": 4,
 "nbformat_minor": 5
}
