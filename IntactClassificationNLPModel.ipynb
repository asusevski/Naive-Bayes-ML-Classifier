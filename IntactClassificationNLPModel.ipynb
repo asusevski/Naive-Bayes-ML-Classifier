{
 "cells": [
  {
   "cell_type": "markdown",
   "metadata": {},
   "source": [
    "# Intact Medical Data ML model using Naive Bayes Classification Model\n",
    "\n",
    "### By: Daniyal, Hibah, Abhishek and Adam"
   ]
  },
  {
   "attachments": {},
   "cell_type": "markdown",
   "metadata": {},
   "source": [
    "In our CxC Data Hackathon project, we were given medical transcription data by Intact and our goal was to predict which of the 40 provided medical specialties each transcription should be assigned to. This is our multiclass classification problem. We are judged based off the macro f1-score. Here are the steps we took to maximize the f1-score:"
   ]
  },
  {
   "cell_type": "markdown",
   "metadata": {},
   "source": [
    "### Step 1: Import Libraries and read in the Dataset to train on"
   ]
  },
  {
   "cell_type": "code",
   "execution_count": 6,
   "metadata": {
    "scrolled": true
   },
   "outputs": [
    {
     "name": "stdout",
     "output_type": "stream",
     "text": [
      "Test size with duplicates:  3969\n"
     ]
    },
    {
     "name": "stderr",
     "output_type": "stream",
     "text": [
      "[nltk_data] Downloading package wordnet to\n",
      "[nltk_data]     /Users/daniyalmohammed/nltk_data...\n",
      "[nltk_data]   Package wordnet is already up-to-date!\n",
      "[nltk_data] Downloading package omw-1.4 to\n",
      "[nltk_data]     /Users/daniyalmohammed/nltk_data...\n",
      "[nltk_data]   Package omw-1.4 is already up-to-date!\n",
      "[nltk_data] Downloading package punkt to\n",
      "[nltk_data]     /Users/daniyalmohammed/nltk_data...\n",
      "[nltk_data]   Package punkt is already up-to-date!\n",
      "[nltk_data] Downloading package averaged_perceptron_tagger to\n",
      "[nltk_data]     /Users/daniyalmohammed/nltk_data...\n",
      "[nltk_data]   Package averaged_perceptron_tagger is already up-to-\n",
      "[nltk_data]       date!\n"
     ]
    }
   ],
   "source": [
    "import pandas as pd\n",
    "import re\n",
    "from sklearn.feature_extraction.text import CountVectorizer\n",
    "from sklearn.feature_extraction import _stop_words\n",
    "from sklearn.model_selection import train_test_split\n",
    "from sklearn.naive_bayes import MultinomialNB\n",
    "from sklearn import metrics\n",
    "from sklearn.metrics import classification_report\n",
    "from nltk.stem import WordNetLemmatizer\n",
    "from nltk.corpus import wordnet\n",
    "import nltk\n",
    "nltk.download('wordnet')\n",
    "nltk.download('omw-1.4')\n",
    "nltk.download('punkt')\n",
    "nltk.download('averaged_perceptron_tagger')\n",
    "\n",
    "## Reading in our data\n",
    "df = pd.read_csv(\"./IntactInstructions/new_train.csv\", index_col=0)\n",
    "print(\"Test size with duplicates: \", len(df))"
   ]
  },
  {
   "cell_type": "markdown",
   "metadata": {},
   "source": [
    "### Step 2: Pre-process our data\n",
    "\n",
    "I think this is the most important step here, the ML model is only as good as its dataset, so we gotta make sure it's squeaky clean.\n",
    "\n",
    "All of the basic pre-processing is done by the CountVectorizer, these tasks include:\n",
    "- Tokenize (divide words individually)\n",
    "- Remove stop-words (remove \"the, and, to, or, ...\"; other special characters)\n",
    "- Lemmatize (convert similar words into its base root; eating, eats, ate => eat)"
   ]
  },
  {
   "cell_type": "code",
   "execution_count": 7,
   "metadata": {
    "scrolled": false
   },
   "outputs": [
    {
     "name": "stdout",
     "output_type": "stream",
     "text": [
      "Label size:  3969\n"
     ]
    },
    {
     "data": {
      "text/plain": [
       "0       0\n",
       "1       1\n",
       "2       1\n",
       "3       2\n",
       "4       0\n",
       "       ..\n",
       "3995    4\n",
       "3996    1\n",
       "3997    1\n",
       "3998    5\n",
       "3999    1\n",
       "Name: labels, Length: 3969, dtype: int64"
      ]
     },
     "execution_count": 7,
     "metadata": {},
     "output_type": "execute_result"
    }
   ],
   "source": [
    "# Create labels/target values\n",
    "y = df.labels\n",
    "print(\"Label size: \", len(y))\n",
    "y"
   ]
  },
  {
   "cell_type": "code",
   "execution_count": 8,
   "metadata": {
    "scrolled": true
   },
   "outputs": [
    {
     "name": "stdout",
     "output_type": "stream",
     "text": [
      "X_train size:  1587\n",
      "y_train size:  1587\n",
      "X_test size:  2382\n",
      "y_test size:  2382\n"
     ]
    }
   ],
   "source": [
    "# Split the data into training and testing sets\n",
    "X_train, X_test, y_train, y_test = train_test_split(df[\"transcription\"], y, test_size=0.6, random_state=42)\n",
    "\n",
    "# X_train: training data of features\n",
    "print(\"X_train size: \", len(X_train))\n",
    "# y_train: training data of label\n",
    "print(\"y_train size: \", len(y_train))\n",
    "\n",
    "# X_test: test data of features\n",
    "print(\"X_test size: \", len(X_test))\n",
    "# y_test: test data of label\n",
    "print(\"y_test size: \", len(y_test))\n",
    "\n",
    "# X_train\n",
    "# y_train[:50]\n",
    "# X_test\n",
    "# y_test"
   ]
  },
  {
   "cell_type": "code",
   "execution_count": 9,
   "metadata": {},
   "outputs": [
    {
     "name": "stdout",
     "output_type": "stream",
     "text": [
      "<class 'sklearn.feature_extraction.text.CountVectorizer'>\n"
     ]
    }
   ],
   "source": [
    "# Instantiate the WordNetLemmatizer\n",
    "wordnet_lemmatizer = WordNetLemmatizer()\n",
    "\n",
    "\n",
    "# Custom pre-processing function\n",
    "def preprocess_data(text):\n",
    "    text = text.lower()\n",
    "    text = re.sub(r'\\d|_', '', text) # removes digits and '_'\n",
    "    text = wordnet_lemmatizer.lemmatize(text)\n",
    "    return text\n",
    "\n",
    "# , preprocessor=preprocess_data\n",
    "# Initialize a CountVectorizer object\n",
    "count_vectorizer = CountVectorizer(stop_words=\"english\", preprocessor=preprocess_data, max_df=0.2, min_df=25, ngram_range=(1, 2))\n",
    "\n",
    "print(type(count_vectorizer))"
   ]
  },
  {
   "cell_type": "markdown",
   "metadata": {},
   "source": [
    "### Step 3: Fit and Transform the Data\n",
    "\n",
    "Specifically, we must fit AND transform the feature training data and only transform the feature test data.\n",
    "This is a preliminary step.\n",
    "\n",
    "In fit_transform(), what happens is that we calculate the mean and variance of the training data and standardize the entire dataset (hence, transform). We only need transform() for the test data because we are using the mean and variance of the training data to standardize the test data."
   ]
  },
  {
   "cell_type": "code",
   "execution_count": 10,
   "metadata": {},
   "outputs": [
    {
     "name": "stderr",
     "output_type": "stream",
     "text": [
      "/opt/homebrew/lib/python3.11/site-packages/sklearn/feature_extraction/text.py:409: UserWarning: Your stop_words may be inconsistent with your preprocessing. Tokenizing the stop words generated tokens ['ha', 'le', 'wa'] not in stop_words.\n",
      "  warnings.warn(\n"
     ]
    },
    {
     "name": "stdout",
     "output_type": "stream",
     "text": [
      "Number of words:  2736\n",
      "['abc' 'abcd' 'abcd general' 'abdomen pelvis' 'abdomen prepped'\n",
      " 'abdomen soft' 'abdominal' 'abdominal cavity' 'abdominal pain'\n",
      " 'abdominal wall' 'ability' 'able' 'abnormal' 'abnormalities'\n",
      " 'abnormality' 'abscess' 'absent' 'abuse' 'ac' 'access' 'accident'\n",
      " 'accommodation' 'accompanied' 'accomplished' 'according' 'ace' 'achieved'\n",
      " 'acid' 'active' 'activities' 'activity' 'actually' 'acute'\n",
      " 'acute distress' 'add' 'addition' 'additional' 'adenocarcinoma'\n",
      " 'adenopathy' 'adequate' 'adequate general' 'adequately' 'adhesions'\n",
      " 'adjacent' 'administered' 'administration' 'admission' 'admit' 'admitted'\n",
      " 'admitted hospital' 'admitting' 'adnexal' 'adrenal' 'advanced' 'advised'\n",
      " 'afebrile' 'affect' 'african' 'african american' 'afternoon' 'age'\n",
      " 'aggressive' 'ago' 'agree' 'agreed' 'ahead' 'air' 'airway' 'albumin'\n",
      " 'albuterol' 'alcohol' 'alcohol use' 'alert' 'alert oriented' 'alignment'\n",
      " 'allergic' 'allergies' 'allergies known' 'allergies medications'\n",
      " 'allergies social' 'allergy' 'allow' 'allowed' 'allowing' 'alt'\n",
      " 'alternative' 'alternatives' 'ambulation' 'american' 'american female'\n",
      " 'amounts' 'analysis' 'anastomosis' 'anatomic' 'anatomy' 'ancef' 'anemia'\n",
      " 'anesthesia administered' 'anesthesia care' 'anesthesia general'\n",
      " 'anesthesia induced' 'anesthesia local' 'anesthesia obtained'\n",
      " 'anesthesia patient' 'anesthetic' 'anesthetized' 'angina' 'angiogram'\n",
      " 'angiography' 'angle' 'anicteric' 'ankle' 'ankles' 'answered'\n",
      " 'anterior cervical' 'anterior descending' 'anterior posterior'\n",
      " 'anteriorly' 'anti' 'antibiotic' 'antibiotics' 'anticoagulation'\n",
      " 'anxiety' 'aorta' 'aortic' 'aortic valve' 'ap' 'ap lateral' 'apex'\n",
      " 'apnea' 'apparent' 'apparent distress' 'apparently' 'appear' 'appearance'\n",
      " 'appeared' 'appeared normal' 'appearing' 'appears' 'appendectomy'\n",
      " 'appendix' 'appetite' 'application' 'applied' 'applied patient'\n",
      " 'appointment' 'appreciated' 'approach' 'appropriate' 'appropriately'\n",
      " 'approximate' 'approximated' 'approximately cc' 'approximately cm'\n",
      " 'approximately days' 'approximately minutes' 'approximately ml'\n",
      " 'approximately mm' 'arch' 'area prepped' 'areas' 'arm' 'arms' 'arterial'\n",
      " 'arteries' 'artery' 'artery disease' 'artery left' 'arthritis'\n",
      " 'articular' 'ascending' 'ascending aorta' 'asked' 'aspect' 'aspect right'\n",
      " 'aspects' 'aspirated' 'aspiration' 'aspirin' 'aspirin mg' 'assess'\n",
      " 'assessed' 'assessment' 'assessment patient' 'assessment plan' 'assist'\n",
      " 'assistance' 'assisted' 'associated' 'ast' 'asthma' 'asymmetry'\n",
      " 'atraumatic' 'atraumatic normocephalic' 'atrial' 'atrial fibrillation'\n",
      " 'atrium' 'atrophy' 'attached' 'attachments' 'attempt' 'attempted'\n",
      " 'attempts' 'attention' 'attention directed' 'attention turned' 'auditory'\n",
      " 'auscultation' 'auscultation bilaterally' 'available' 'avoid' 'awake'\n",
      " 'awake alert' 'awakened' 'aware' 'away' 'axial' 'axillary' 'axis' 'baby'\n",
      " 'bacitracin' 'bag' 'balloon' 'bandage' 'base' 'based' 'baseline' 'basis'\n",
      " 'bed' 'bedtime' 'began' 'beginning' 'begun' 'believe' 'believes'\n",
      " 'benefit' 'benefits' 'benefits alternatives' 'benefits procedure'\n",
      " 'benign' 'best' 'beta' 'betadine' 'better' 'biceps' 'bifurcation'\n",
      " 'bilateral' 'bilateral lower' 'bimanual' 'biopsies' 'biopsy' 'bipolar'\n",
      " 'birth' 'bit' 'bladder' 'blade' 'blade scalpel' 'blade used' 'bleed'\n",
      " 'bleeding' 'bleeding infection' 'block' 'blood cell' 'blood cells'\n",
      " 'blood loss' 'blood pressure' 'blunt' 'blunt dissection' 'bluntly'\n",
      " 'bodies' 'body' 'bone' 'bony' 'bony prominences' 'border' 'borderline'\n",
      " 'born' 'bovie' 'bovie cautery' 'bovie electrocautery' 'bowel'\n",
      " 'bowel bladder' 'bowel sounds' 'boy' 'bp' 'bp hr' 'brain' 'branch'\n",
      " 'branches' 'breast' 'breast cancer' 'breasts' 'breath' 'breath chest'\n",
      " 'breath sounds' 'breathing' 'brief' 'brief history' 'briefly'\n",
      " 'bronchoscopy' 'brother' 'brought operating' 'brought operative'\n",
      " 'brought recovery' 'bruit' 'bruits' 'bulging' 'bulk' 'bun'\n",
      " 'bun creatinine' 'bypass' 'calcification' 'calcium' 'calf' 'caliber'\n",
      " 'called' 'came' 'camera' 'canal' 'canals' 'cancer' 'candidate' 'cannula'\n",
      " 'cannulated' 'capillary' 'capsular' 'capsule' 'carcinoma' 'cardiac'\n",
      " 'cardiac catheterization' 'cardiology' 'cardiopulmonary' 'cardiovascular'\n",
      " 'cardiovascular regular' 'care patient' 'care physician' 'care taken'\n",
      " 'care unit' 'careful' 'carefully' 'carotid' 'carotid artery'\n",
      " 'carotid bruits' 'carpal' 'carpal tunnel' 'carried' 'cartilage' 'case'\n",
      " 'cataract' 'cath' 'catheter' 'catheter advanced' 'catheter inserted'\n",
      " 'catheter placed' 'catheterization' 'catheters' 'caucasian'\n",
      " 'caucasian female' 'caucasian male' 'cause' 'caused' 'causing'\n",
      " 'cauterized' 'cautery' 'cava' 'cavity' 'cbc' 'cc' 'cecum' 'cell'\n",
      " 'cell carcinoma' 'cell count' 'cells' 'center' 'central' 'cerebellar'\n",
      " 'cerebral' 'certainly' 'cervical' 'cervical discectomy' 'cervical spine'\n",
      " 'cervix' 'chamber' 'change' 'changed' 'changes' 'chart' 'check' 'checked'\n",
      " 'chemotherapy' 'chest clear' 'chest pain' 'chest ray' 'chief'\n",
      " 'chief complaint' 'child' 'children' 'chills' 'chloride'\n",
      " 'cholecystectomy' 'cholesterol' 'chromic' 'chronic' 'chronic obstructive'\n",
      " 'chronic pain' 'cigarettes' 'circumflex' 'clamp' 'clamped' 'clamps'\n",
      " 'clean' 'cleaned' 'clear auscultation' 'clear heart' 'clear neck'\n",
      " 'cleared' 'clearly' 'clinic' 'clinical' 'clinically' 'clock' 'close'\n",
      " 'closed interrupted' 'closed layers' 'closed running' 'closed using'\n",
      " 'closed vicryl' 'closely' 'closure' 'clots' 'clubbing'\n",
      " 'clubbing cyanosis' 'cm incision' 'cn' 'cognitive' 'cold' 'collateral'\n",
      " 'colon' 'colonoscopy' 'color' 'combination' 'come' 'comes' 'comfortable'\n",
      " 'coming' 'common' 'compared' 'comparison' 'compartment' 'compatible'\n",
      " 'complained' 'complaining' 'complains' 'complaint' 'complaints'\n",
      " 'complete' 'completed' 'completely' 'completion' 'complex' 'complicated'\n",
      " 'complication' 'complications estimated' 'complications indications'\n",
      " 'complications patient' 'complications procedure' 'component'\n",
      " 'compression' 'concern' 'concerned' 'concerning' 'concerns' 'conclusion'\n",
      " 'condition patient' 'conditions' 'conduction' 'confirm' 'confirmed'\n",
      " 'congestion' 'congestive' 'congestive heart' 'conjunctivae' 'connected'\n",
      " 'conscious' 'conscious sedation' 'consciousness' 'consent'\n",
      " 'consent obtained' 'consent patient' 'conservative' 'consider'\n",
      " 'considered' 'consistent' 'consisting' 'constant' 'constipation'\n",
      " 'constitutional' 'consult' 'consultation' 'consulted']\n"
     ]
    }
   ],
   "source": [
    "# Fit and transform the TRAINING data using only the 'transciption' column values\n",
    "count_train = count_vectorizer.fit_transform(X_train.values)\n",
    "# Transform the TEST data using only the 'transciption' column values\n",
    "count_test = count_vectorizer.transform(X_test.values)\n",
    "\n",
    "\n",
    "# Print number of words processing\n",
    "print(\"Number of words: \", len(count_vectorizer.get_feature_names_out())) # number of test data from split\n",
    "# Print the features (individual tokens) of the count_vectorizer\n",
    "print(count_vectorizer.get_feature_names_out()[:500])"
   ]
  },
  {
   "cell_type": "markdown",
   "metadata": {},
   "source": [
    "### Step 5: Train our models here\n",
    "\n",
    "From our previous work, we can see that the Multinomial Naive Bayes is the most accurate model to classify our labels"
   ]
  },
  {
   "cell_type": "code",
   "execution_count": 11,
   "metadata": {},
   "outputs": [
    {
     "name": "stdout",
     "output_type": "stream",
     "text": [
      "Number of predictions:  2382\n",
      "[ 7  1 34 ...  9  3  1]\n"
     ]
    }
   ],
   "source": [
    "# Instantiate a Multinomial Naive Bayes classifier\n",
    "nb_clf = MultinomialNB(alpha=0.01)\n",
    "# Fit the classifier to the training data\n",
    "nb_clf.fit(count_train, y_train)\n",
    "# Create the predicted tags\n",
    "pred = nb_clf.predict(count_test)\n",
    "\n",
    "# Print the predictions for each row of the dataset (1001 rows)\n",
    "print(\"Number of predictions: \", len(pred)) # Equal to the number of test data (when it got split)\n",
    "print(pred)"
   ]
  },
  {
   "cell_type": "markdown",
   "metadata": {},
   "source": [
    "### Step 6: Evaluate the model\n",
    "\n",
    "We will create an accuracy score and also a confusion matrix.\n",
    "\n",
    "Precision = TP/(TP + FP)\n",
    "\n",
    "Recall = TP/(TP+FN)\n",
    "\n",
    "F1 Score = 2*(Recall * Precision) / (Recall + Precision)"
   ]
  },
  {
   "cell_type": "code",
   "execution_count": 12,
   "metadata": {
    "scrolled": true
   },
   "outputs": [
    {
     "name": "stdout",
     "output_type": "stream",
     "text": [
      "0.3165407220822838\n",
      "              precision    recall  f1-score   support\n",
      "\n",
      "           0       0.00      0.00      0.00        42\n",
      "           1       0.35      0.31      0.33       485\n",
      "           2       0.34      0.32      0.33       119\n",
      "           3       0.33      0.33      0.33        24\n",
      "           4       0.29      0.35      0.32        95\n",
      "           5       0.37      0.38      0.38       106\n",
      "           6       0.39      0.44      0.41       174\n",
      "           7       0.47      0.33      0.39       196\n",
      "           8       0.06      0.03      0.04        38\n",
      "           9       0.38      0.25      0.30        53\n",
      "          10       0.18      0.24      0.21       132\n",
      "          11       0.07      0.02      0.04        41\n",
      "          12       0.00      0.00      0.00        14\n",
      "          13       0.20      0.15      0.17        73\n",
      "          14       0.00      0.00      0.00         7\n",
      "          15       0.48      0.29      0.36        34\n",
      "          16       0.26      0.45      0.33       254\n",
      "          17       0.00      0.00      0.00         3\n",
      "          18       0.26      0.21      0.23        47\n",
      "          19       0.39      0.53      0.45        76\n",
      "          20       0.32      0.22      0.26        87\n",
      "          21       0.33      0.35      0.34        52\n",
      "          22       1.00      0.20      0.33         5\n",
      "          23       0.20      0.08      0.12        12\n",
      "          24       0.00      0.00      0.00        11\n",
      "          25       0.12      0.12      0.12        24\n",
      "          26       0.00      0.00      0.00         2\n",
      "          27       0.44      0.60      0.51        40\n",
      "          28       0.17      0.33      0.22         3\n",
      "          29       0.42      0.56      0.48         9\n",
      "          30       0.10      0.09      0.09        35\n",
      "          31       0.25      0.09      0.13        11\n",
      "          32       0.00      0.00      0.00         9\n",
      "          33       0.00      0.00      0.00        12\n",
      "          34       0.63      0.67      0.65        36\n",
      "          35       0.29      0.40      0.33         5\n",
      "          36       0.00      0.00      0.00         4\n",
      "          37       0.57      0.67      0.62         6\n",
      "          38       0.21      1.00      0.35         4\n",
      "          39       0.00      0.00      0.00         2\n",
      "\n",
      "    accuracy                           0.32      2382\n",
      "   macro avg       0.25      0.25      0.23      2382\n",
      "weighted avg       0.31      0.32      0.31      2382\n",
      "\n"
     ]
    }
   ],
   "source": [
    "# Calculate the accuracy score\n",
    "score = metrics.accuracy_score(y_test, pred)\n",
    "# Calculate the confusion matrix\n",
    "# conf_matrix = metrics.confusion_matrix(y_test, pred)\n",
    "\n",
    "print(score)\n",
    "print(classification_report(y_test, pred))"
   ]
  }
 ],
 "metadata": {
  "kernelspec": {
   "display_name": "Python 3 (ipykernel)",
   "language": "python",
   "name": "python3"
  },
  "language_info": {
   "codemirror_mode": {
    "name": "ipython",
    "version": 3
   },
   "file_extension": ".py",
   "mimetype": "text/x-python",
   "name": "python",
   "nbconvert_exporter": "python",
   "pygments_lexer": "ipython3",
   "version": "3.11.2"
  },
  "vscode": {
   "interpreter": {
    "hash": "b0fa6594d8f4cbf19f97940f81e996739fb7646882a419484c72d19e05852a7e"
   }
  }
 },
 "nbformat": 4,
 "nbformat_minor": 2
}
