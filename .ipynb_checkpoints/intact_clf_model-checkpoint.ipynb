{
 "cells": [
  {
   "cell_type": "markdown",
   "metadata": {},
   "source": [
    "# Intact Medical Specialty Classification Model using NLP\n",
    "\n",
    "### By: Daniyal, Hibah, Abhishek and Adam"
   ]
  },
  {
   "cell_type": "markdown",
   "metadata": {},
   "source": [
    "### Step 1: Import libraries and read in the data\n",
    "\n",
    "We'll add more libraries, as we move on."
   ]
  },
  {
   "cell_type": "code",
   "execution_count": 1,
   "metadata": {
    "scrolled": true
   },
   "outputs": [
    {
     "name": "stderr",
     "output_type": "stream",
     "text": [
      "[nltk_data] Downloading package wordnet to /Users/adamyeo/nltk_data...\n",
      "[nltk_data]   Package wordnet is already up-to-date!\n",
      "[nltk_data] Downloading package omw-1.4 to /Users/adamyeo/nltk_data...\n",
      "[nltk_data]   Package omw-1.4 is already up-to-date!\n",
      "[nltk_data] Downloading package punkt to /Users/adamyeo/nltk_data...\n",
      "[nltk_data]   Package punkt is already up-to-date!\n",
      "[nltk_data] Downloading package averaged_perceptron_tagger to\n",
      "[nltk_data]     /Users/adamyeo/nltk_data...\n",
      "[nltk_data]   Package averaged_perceptron_tagger is already up-to-\n",
      "[nltk_data]       date!\n"
     ]
    },
    {
     "name": "stdout",
     "output_type": "stream",
     "text": [
      "Test size with duplicates:  3969\n",
      "Test size without duplicates:  2255\n"
     ]
    },
    {
     "data": {
      "text/html": [
       "<div>\n",
       "<style scoped>\n",
       "    .dataframe tbody tr th:only-of-type {\n",
       "        vertical-align: middle;\n",
       "    }\n",
       "\n",
       "    .dataframe tbody tr th {\n",
       "        vertical-align: top;\n",
       "    }\n",
       "\n",
       "    .dataframe thead th {\n",
       "        text-align: right;\n",
       "    }\n",
       "</style>\n",
       "<table border=\"1\" class=\"dataframe\">\n",
       "  <thead>\n",
       "    <tr style=\"text-align: right;\">\n",
       "      <th></th>\n",
       "      <th>medical_specialty</th>\n",
       "      <th>transcription</th>\n",
       "      <th>labels</th>\n",
       "    </tr>\n",
       "  </thead>\n",
       "  <tbody>\n",
       "    <tr>\n",
       "      <th>0</th>\n",
       "      <td>Emergency Room Reports</td>\n",
       "      <td>REASON FOR THE VISIT:,  Very high PT/INR.,HIST...</td>\n",
       "      <td>0</td>\n",
       "    </tr>\n",
       "    <tr>\n",
       "      <th>1</th>\n",
       "      <td>Surgery</td>\n",
       "      <td>PREOPERATIVE DIAGNOSIS:,  Acetabular fracture ...</td>\n",
       "      <td>1</td>\n",
       "    </tr>\n",
       "    <tr>\n",
       "      <th>2</th>\n",
       "      <td>Surgery</td>\n",
       "      <td>NAME OF PROCEDURE,1.  Selective coronary angio...</td>\n",
       "      <td>1</td>\n",
       "    </tr>\n",
       "    <tr>\n",
       "      <th>3</th>\n",
       "      <td>Radiology</td>\n",
       "      <td>REFERRING DIAGNOSIS: , Motor neuron disease.,P...</td>\n",
       "      <td>2</td>\n",
       "    </tr>\n",
       "    <tr>\n",
       "      <th>4</th>\n",
       "      <td>Emergency Room Reports</td>\n",
       "      <td>CHIEF COMPLAINT: , Dental pain.,HISTORY OF PRE...</td>\n",
       "      <td>0</td>\n",
       "    </tr>\n",
       "    <tr>\n",
       "      <th>...</th>\n",
       "      <td>...</td>\n",
       "      <td>...</td>\n",
       "      <td>...</td>\n",
       "    </tr>\n",
       "    <tr>\n",
       "      <th>3957</th>\n",
       "      <td>Orthopedic</td>\n",
       "      <td>PREOPERATIVE DIAGNOSIS: , Right hip osteoarthr...</td>\n",
       "      <td>6</td>\n",
       "    </tr>\n",
       "    <tr>\n",
       "      <th>3959</th>\n",
       "      <td>Surgery</td>\n",
       "      <td>PREOPERATIVE DIAGNOSIS: , Left knee medial fem...</td>\n",
       "      <td>1</td>\n",
       "    </tr>\n",
       "    <tr>\n",
       "      <th>3975</th>\n",
       "      <td>Surgery</td>\n",
       "      <td>DELIVERY NOTE: , The patient is a very pleasan...</td>\n",
       "      <td>1</td>\n",
       "    </tr>\n",
       "    <tr>\n",
       "      <th>3977</th>\n",
       "      <td>Urology</td>\n",
       "      <td>PREOPERATIVE DX: , Stress urinary incontinence...</td>\n",
       "      <td>20</td>\n",
       "    </tr>\n",
       "    <tr>\n",
       "      <th>3999</th>\n",
       "      <td>Surgery</td>\n",
       "      <td>PREOPERATIVE DIAGNOSIS: , Right pleural effusi...</td>\n",
       "      <td>1</td>\n",
       "    </tr>\n",
       "  </tbody>\n",
       "</table>\n",
       "<p>2255 rows × 3 columns</p>\n",
       "</div>"
      ],
      "text/plain": [
       "            medical_specialty  \\\n",
       "0      Emergency Room Reports   \n",
       "1                     Surgery   \n",
       "2                     Surgery   \n",
       "3                   Radiology   \n",
       "4      Emergency Room Reports   \n",
       "...                       ...   \n",
       "3957               Orthopedic   \n",
       "3959                  Surgery   \n",
       "3975                  Surgery   \n",
       "3977                  Urology   \n",
       "3999                  Surgery   \n",
       "\n",
       "                                          transcription  labels  \n",
       "0     REASON FOR THE VISIT:,  Very high PT/INR.,HIST...       0  \n",
       "1     PREOPERATIVE DIAGNOSIS:,  Acetabular fracture ...       1  \n",
       "2     NAME OF PROCEDURE,1.  Selective coronary angio...       1  \n",
       "3     REFERRING DIAGNOSIS: , Motor neuron disease.,P...       2  \n",
       "4     CHIEF COMPLAINT: , Dental pain.,HISTORY OF PRE...       0  \n",
       "...                                                 ...     ...  \n",
       "3957  PREOPERATIVE DIAGNOSIS: , Right hip osteoarthr...       6  \n",
       "3959  PREOPERATIVE DIAGNOSIS: , Left knee medial fem...       1  \n",
       "3975  DELIVERY NOTE: , The patient is a very pleasan...       1  \n",
       "3977  PREOPERATIVE DX: , Stress urinary incontinence...      20  \n",
       "3999  PREOPERATIVE DIAGNOSIS: , Right pleural effusi...       1  \n",
       "\n",
       "[2255 rows x 3 columns]"
      ]
     },
     "execution_count": 1,
     "metadata": {},
     "output_type": "execute_result"
    }
   ],
   "source": [
    "import pandas as pd\n",
    "import re\n",
    "from sklearn.feature_extraction.text import CountVectorizer\n",
    "from sklearn.feature_extraction import _stop_words\n",
    "from sklearn.model_selection import train_test_split\n",
    "from sklearn.naive_bayes import MultinomialNB\n",
    "from sklearn import metrics\n",
    "from sklearn.metrics import classification_report\n",
    "from nltk.stem import WordNetLemmatizer\n",
    "from nltk.corpus import wordnet\n",
    "import nltk\n",
    "nltk.download('wordnet')\n",
    "nltk.download('omw-1.4')\n",
    "nltk.download('punkt')\n",
    "nltk.download('averaged_perceptron_tagger')\n",
    "\n",
    "df = pd.read_csv(\"new_train.csv\", index_col=0)\n",
    "print(\"Test size with duplicates: \", len(df))\n",
    "# Get rid of duplicate transcriptions\n",
    "df = df.drop_duplicates(subset=['transcription'])\n",
    "print(\"Test size without duplicates: \", len(df))\n",
    "df"
   ]
  },
  {
   "cell_type": "code",
   "execution_count": 2,
   "metadata": {},
   "outputs": [],
   "source": [
    "# # Further process the dataframe\n",
    "\n",
    "# # Get rid of duplicate transcriptions\n",
    "# # df = df.drop_duplicates(subset=['transcription'])\n",
    "# print(\"Test size without duplicates: \", len(df))\n",
    "\n",
    "# start_patterns_soci = [\"SOCIAL HISTORY:,\", \"SOCIAL HISTORY: ,\", \"SOCIAL HISTORY:  ,\", \"SOCIAL HISTORY:   ,\", \"SOCIAL HISTORY,\", \"SOCIAL HISTORY ,\", \"SOCIAL HISTORY:\"]\n",
    "# start_patterns_fam = [\"FAMILY HISTORY:,\", \"FAMILY HISTORY: ,\", \"FAMILY HISTORY:  ,\", \"FAMILY HISTORY:   ,\", \"FAMILY HISTORY,\", \"FAMILY HISTORY ,\", \"FAMILY HISTORY:\"]\n",
    "# start_patterns = [start_patterns_soci, start_patterns_fam]\n",
    "\n",
    "# def remove_hist(transcription):\n",
    "#     for start_patterns_list in start_patterns:\n",
    "#         # Find the start position of the block of text\n",
    "#         start = -1\n",
    "#         dummy = 0\n",
    "#         for pattern in start_patterns_list:\n",
    "#             start = transcription.find(pattern)\n",
    "#             if start != -1:\n",
    "#                 dummy = len(pattern)\n",
    "#                 break\n",
    "    \n",
    "#         # Check if the start position is valid\n",
    "#         if start != -1:\n",
    "#             # Find the end position of the block of text\n",
    "#             end = transcription.find(\",\", start+dummy)\n",
    "#             if end == -1:\n",
    "#                 end = len(transcription)\n",
    "        \n",
    "\n",
    "#             # Extract the parts of the string that come before and after the block of text\n",
    "#             before = transcription[:start]\n",
    "#             after = transcription[end+1:]\n",
    "            \n",
    "#             # Join the remaining parts of the string\n",
    "#             new_string = before + after\n",
    "#             transcription = new_string\n",
    "#         else:\n",
    "#             continue\n",
    "#     return transcription\n",
    "\n",
    "# count = 0\n",
    "# for row in df.iloc():\n",
    "#     count += 1\n",
    "#     # print(row['transcription'], '\\n')\n",
    "#     transcription = remove_hist(row['transcription'])\n",
    "#     print(transcription, '\\n')\n",
    "# print(\"Test size: \", count)"
   ]
  },
  {
   "cell_type": "markdown",
   "metadata": {},
   "source": [
    "### Step 2: Pre-process our data\n",
    "\n",
    "I think this is the most important step here, the ML model is only as good as its dataset, so we gotta make sure it's squeaky clean.\n",
    "\n",
    "All of the basic pre-processing is done by the CountVectorizer, these tasks include:\n",
    "- Tokenize (divide words individually)\n",
    "- Remove stop-words (remove \"the, and, to, or, ...\"; other special characters)\n",
    "- Lemmatize (convert similar words into its base root; eating, eats, ate => eat)"
   ]
  },
  {
   "cell_type": "code",
   "execution_count": 3,
   "metadata": {
    "scrolled": false
   },
   "outputs": [
    {
     "name": "stdout",
     "output_type": "stream",
     "text": [
      "Label size:  2255\n"
     ]
    },
    {
     "data": {
      "text/plain": [
       "0        0\n",
       "1        1\n",
       "2        1\n",
       "3        2\n",
       "4        0\n",
       "        ..\n",
       "3957     6\n",
       "3959     1\n",
       "3975     1\n",
       "3977    20\n",
       "3999     1\n",
       "Name: labels, Length: 2255, dtype: int64"
      ]
     },
     "execution_count": 3,
     "metadata": {},
     "output_type": "execute_result"
    }
   ],
   "source": [
    "# Create labels/target values\n",
    "y = df.labels\n",
    "print(\"Label size: \", len(y))\n",
    "y"
   ]
  },
  {
   "cell_type": "code",
   "execution_count": 4,
   "metadata": {
    "scrolled": true
   },
   "outputs": [
    {
     "name": "stdout",
     "output_type": "stream",
     "text": [
      "X_train size:  1804\n",
      "y_train size:  1804\n",
      "X_test size:  451\n",
      "y_test size:  451\n"
     ]
    }
   ],
   "source": [
    "# Split the data into training and testing sets\n",
    "X_train, X_test, y_train, y_test = train_test_split(df[\"transcription\"], y, test_size=0.2, random_state=42)\n",
    "\n",
    "# X_train: training data of features\n",
    "print(\"X_train size: \", len(X_train))\n",
    "# y_train: training data of label\n",
    "print(\"y_train size: \", len(y_train))\n",
    "\n",
    "# X_test: test data of features\n",
    "print(\"X_test size: \", len(X_test))\n",
    "# y_test: test data of label\n",
    "print(\"y_test size: \", len(y_test))\n",
    "\n",
    "# X_train\n",
    "# y_train[:50]\n",
    "# X_test\n",
    "# y_test"
   ]
  },
  {
   "cell_type": "code",
   "execution_count": 5,
   "metadata": {},
   "outputs": [
    {
     "ename": "FileNotFoundError",
     "evalue": "[Errno 2] No such file or directory: 'words_alpha.txt'",
     "output_type": "error",
     "traceback": [
      "\u001b[0;31m---------------------------------------------------------------------------\u001b[0m",
      "\u001b[0;31mFileNotFoundError\u001b[0m                         Traceback (most recent call last)",
      "Input \u001b[0;32mIn [5]\u001b[0m, in \u001b[0;36m<cell line: 5>\u001b[0;34m()\u001b[0m\n\u001b[1;32m      2\u001b[0m wordnet_lemmatizer \u001b[38;5;241m=\u001b[39m WordNetLemmatizer()\n\u001b[1;32m      3\u001b[0m \u001b[38;5;66;03m# we could try stemming as well\u001b[39;00m\n\u001b[0;32m----> 5\u001b[0m \u001b[38;5;28;01mwith\u001b[39;00m \u001b[38;5;28;43mopen\u001b[39;49m\u001b[43m(\u001b[49m\u001b[38;5;124;43m\"\u001b[39;49m\u001b[38;5;124;43mwords_alpha.txt\u001b[39;49m\u001b[38;5;124;43m\"\u001b[39;49m\u001b[43m)\u001b[49m \u001b[38;5;28;01mas\u001b[39;00m word_file:\n\u001b[1;32m      6\u001b[0m     english_words \u001b[38;5;241m=\u001b[39m \u001b[38;5;28mset\u001b[39m(word\u001b[38;5;241m.\u001b[39mstrip()\u001b[38;5;241m.\u001b[39mlower() \u001b[38;5;28;01mfor\u001b[39;00m word \u001b[38;5;129;01min\u001b[39;00m word_file)\n\u001b[1;32m      7\u001b[0m \u001b[38;5;28;01mwith\u001b[39;00m \u001b[38;5;28mopen\u001b[39m(\u001b[38;5;124m\"\u001b[39m\u001b[38;5;124mmedical_terms.txt\u001b[39m\u001b[38;5;124m\"\u001b[39m) \u001b[38;5;28;01mas\u001b[39;00m word_file:\n",
      "\u001b[0;31mFileNotFoundError\u001b[0m: [Errno 2] No such file or directory: 'words_alpha.txt'"
     ]
    }
   ],
   "source": [
    "# Instantiate the WordNetLemmatizer\n",
    "wordnet_lemmatizer = WordNetLemmatizer()\n",
    "# we could try stemming as well\n",
    "\n",
    "with open(\"words_alpha.txt\") as word_file:\n",
    "    english_words = set(word.strip().lower() for word in word_file)\n",
    "with open(\"medical_terms.txt\") as word_file:\n",
    "    medical_words = set(word.strip().lower() for word in word_file)\n",
    "def is_english_word(word):\n",
    "    return ((word.lower() in english_words) or (word.lower() in medical_words))\n",
    "\n",
    "# Custom pre-processing function\n",
    "def preprocess_data(text):\n",
    "    text = text.lower()\n",
    "    text = re.sub(r'\\d|_', '', text) # removes words with digits and '_'\n",
    "    text = wordnet_lemmatizer.lemmatize(text)\n",
    "    return text\n",
    "\n",
    "# , preprocessor=preprocess_data\n",
    "# Initialize a CountVectorizer object\n",
    "count_vectorizer = CountVectorizer(stop_words=\"english\", preprocessor=preprocess_data, max_df=0.3, min_df=21, ngram_range=(1, 2))\n",
    "\n",
    "print(type(count_vectorizer))\n",
    "\n",
    "print(wordnet_lemmatizer.lemmatize(\"strawberries\"))"
   ]
  },
  {
   "cell_type": "markdown",
   "metadata": {},
   "source": [
    "### Step 3: Fit and Transform the Data\n",
    "\n",
    "Specifically, we must fit AND transform the feature training data and only transform the feature test data.\n",
    "This is a preliminary step.\n",
    "\n",
    "In fit_transform(), what happens is that we calculate the mean and variance of the training data and standardize the entire dataset (hence, transform). We only need transform() for the test data because we are using the mean and variance of the training data to standardize the test data."
   ]
  },
  {
   "cell_type": "code",
   "execution_count": 6,
   "metadata": {},
   "outputs": [
    {
     "ename": "NameError",
     "evalue": "name 'count_vectorizer' is not defined",
     "output_type": "error",
     "traceback": [
      "\u001b[0;31m---------------------------------------------------------------------------\u001b[0m",
      "\u001b[0;31mNameError\u001b[0m                                 Traceback (most recent call last)",
      "Input \u001b[0;32mIn [6]\u001b[0m, in \u001b[0;36m<cell line: 2>\u001b[0;34m()\u001b[0m\n\u001b[1;32m      1\u001b[0m \u001b[38;5;66;03m# Fit and transform the TRAINING data using only the 'transciption' column values\u001b[39;00m\n\u001b[0;32m----> 2\u001b[0m count_train \u001b[38;5;241m=\u001b[39m \u001b[43mcount_vectorizer\u001b[49m\u001b[38;5;241m.\u001b[39mfit_transform(X_train\u001b[38;5;241m.\u001b[39mvalues)\n\u001b[1;32m      3\u001b[0m \u001b[38;5;66;03m# Transform the TEST data using only the 'transciption' column values\u001b[39;00m\n\u001b[1;32m      4\u001b[0m count_test \u001b[38;5;241m=\u001b[39m count_vectorizer\u001b[38;5;241m.\u001b[39mtransform(X_test\u001b[38;5;241m.\u001b[39mvalues)\n",
      "\u001b[0;31mNameError\u001b[0m: name 'count_vectorizer' is not defined"
     ]
    }
   ],
   "source": [
    "# Fit and transform the TRAINING data using only the 'transciption' column values\n",
    "count_train = count_vectorizer.fit_transform(X_train.values)\n",
    "# Transform the TEST data using only the 'transciption' column values\n",
    "count_test = count_vectorizer.transform(X_test.values)\n",
    "\n",
    "\n",
    "# Print number of words processing\n",
    "print(\"Number of words: \", len(count_vectorizer.get_feature_names_out())) # number of test data from split\n",
    "# Print the features (individual tokens) of the count_vectorizer\n",
    "print(count_vectorizer.get_feature_names_out()[:500])"
   ]
  },
  {
   "cell_type": "markdown",
   "metadata": {},
   "source": [
    "### Step 4: Train our models here\n",
    "\n",
    "We used the Multinomial Naive Bayes to classify our labels"
   ]
  },
  {
   "cell_type": "code",
   "execution_count": 7,
   "metadata": {},
   "outputs": [
    {
     "ename": "NameError",
     "evalue": "name 'count_train' is not defined",
     "output_type": "error",
     "traceback": [
      "\u001b[0;31m---------------------------------------------------------------------------\u001b[0m",
      "\u001b[0;31mNameError\u001b[0m                                 Traceback (most recent call last)",
      "Input \u001b[0;32mIn [7]\u001b[0m, in \u001b[0;36m<cell line: 4>\u001b[0;34m()\u001b[0m\n\u001b[1;32m      2\u001b[0m nb_clf \u001b[38;5;241m=\u001b[39m MultinomialNB(alpha\u001b[38;5;241m=\u001b[39m\u001b[38;5;241m0.4\u001b[39m)\n\u001b[1;32m      3\u001b[0m \u001b[38;5;66;03m# Fit the classifier to the training data\u001b[39;00m\n\u001b[0;32m----> 4\u001b[0m nb_clf\u001b[38;5;241m.\u001b[39mfit(\u001b[43mcount_train\u001b[49m, y_train)\n\u001b[1;32m      5\u001b[0m \u001b[38;5;66;03m# Create the predicted tags\u001b[39;00m\n\u001b[1;32m      6\u001b[0m pred \u001b[38;5;241m=\u001b[39m nb_clf\u001b[38;5;241m.\u001b[39mpredict(count_test)\n",
      "\u001b[0;31mNameError\u001b[0m: name 'count_train' is not defined"
     ]
    }
   ],
   "source": [
    "# Instantiate a Multinomial Naive Bayes classifier\n",
    "nb_clf = MultinomialNB(alpha=0.4)\n",
    "# Fit the classifier to the training data\n",
    "nb_clf.fit(count_train, y_train)\n",
    "# Create the predicted tags\n",
    "pred = nb_clf.predict(count_test)\n",
    "\n",
    "# Print the predictions for each row of the dataset (1001 rows)\n",
    "print(\"Number of predictions: \", len(pred)) # Equal to the number of test data (when it got split)\n",
    "print(pred)"
   ]
  },
  {
   "cell_type": "markdown",
   "metadata": {},
   "source": [
    "### Step 4: Evaluate the model\n",
    "\n",
    "We will create an accuracy score and also a confusion matrix.\n",
    "\n",
    "Precision = TP/(TP + FP)\n",
    "\n",
    "Recall = TP/(TP+FN)\n",
    "\n",
    "F1 Score = 2*(Recall * Precision) / (Recall + Precision)"
   ]
  },
  {
   "cell_type": "code",
   "execution_count": 80,
   "metadata": {
    "scrolled": true
   },
   "outputs": [
    {
     "name": "stdout",
     "output_type": "stream",
     "text": [
      "              precision    recall  f1-score   support\n",
      "\n",
      "           0       0.33      0.50      0.40         6\n",
      "           1       0.46      0.27      0.34        93\n",
      "           2       0.40      0.44      0.42        27\n",
      "           3       0.25      0.40      0.31         5\n",
      "           4       0.50      0.35      0.41        17\n",
      "           5       0.43      0.45      0.44        20\n",
      "           6       0.51      0.49      0.50        39\n",
      "           7       0.48      0.35      0.41        40\n",
      "           8       0.00      0.00      0.00         5\n",
      "           9       0.69      0.82      0.75        11\n",
      "          10       0.00      0.00      0.00         7\n",
      "          11       0.29      0.25      0.27         8\n",
      "          12       0.00      0.00      0.00         5\n",
      "          13       0.21      0.31      0.25        13\n",
      "          14       0.00      0.00      0.00         0\n",
      "          15       0.50      0.88      0.64         8\n",
      "          16       0.45      0.40      0.42        62\n",
      "          18       0.50      0.75      0.60         4\n",
      "          19       0.42      0.67      0.52        12\n",
      "          20       0.47      0.58      0.52        12\n",
      "          21       0.41      0.78      0.54         9\n",
      "          22       1.00      1.00      1.00         3\n",
      "          23       1.00      0.33      0.50         3\n",
      "          24       0.00      0.00      0.00         3\n",
      "          25       0.17      0.25      0.20         4\n",
      "          26       0.00      0.00      0.00         1\n",
      "          27       0.50      0.89      0.64         9\n",
      "          28       0.00      0.00      0.00         0\n",
      "          29       0.00      0.00      0.00         0\n",
      "          30       0.50      0.17      0.25         6\n",
      "          31       0.00      0.00      0.00         5\n",
      "          32       0.00      0.00      0.00         0\n",
      "          33       0.00      0.00      0.00         1\n",
      "          34       0.90      0.90      0.90        10\n",
      "          35       0.00      0.00      0.00         2\n",
      "          37       0.33      1.00      0.50         1\n",
      "          39       0.00      0.00      0.00         0\n",
      "\n",
      "    accuracy                           0.41       451\n",
      "   macro avg       0.32      0.36      0.32       451\n",
      "weighted avg       0.44      0.41      0.41       451\n",
      "\n"
     ]
    },
    {
     "name": "stderr",
     "output_type": "stream",
     "text": [
      "/opt/homebrew/lib/python3.11/site-packages/sklearn/metrics/_classification.py:1344: UndefinedMetricWarning: Precision and F-score are ill-defined and being set to 0.0 in labels with no predicted samples. Use `zero_division` parameter to control this behavior.\n",
      "  _warn_prf(average, modifier, msg_start, len(result))\n",
      "/opt/homebrew/lib/python3.11/site-packages/sklearn/metrics/_classification.py:1344: UndefinedMetricWarning: Recall and F-score are ill-defined and being set to 0.0 in labels with no true samples. Use `zero_division` parameter to control this behavior.\n",
      "  _warn_prf(average, modifier, msg_start, len(result))\n",
      "/opt/homebrew/lib/python3.11/site-packages/sklearn/metrics/_classification.py:1344: UndefinedMetricWarning: Precision and F-score are ill-defined and being set to 0.0 in labels with no predicted samples. Use `zero_division` parameter to control this behavior.\n",
      "  _warn_prf(average, modifier, msg_start, len(result))\n",
      "/opt/homebrew/lib/python3.11/site-packages/sklearn/metrics/_classification.py:1344: UndefinedMetricWarning: Recall and F-score are ill-defined and being set to 0.0 in labels with no true samples. Use `zero_division` parameter to control this behavior.\n",
      "  _warn_prf(average, modifier, msg_start, len(result))\n",
      "/opt/homebrew/lib/python3.11/site-packages/sklearn/metrics/_classification.py:1344: UndefinedMetricWarning: Precision and F-score are ill-defined and being set to 0.0 in labels with no predicted samples. Use `zero_division` parameter to control this behavior.\n",
      "  _warn_prf(average, modifier, msg_start, len(result))\n",
      "/opt/homebrew/lib/python3.11/site-packages/sklearn/metrics/_classification.py:1344: UndefinedMetricWarning: Recall and F-score are ill-defined and being set to 0.0 in labels with no true samples. Use `zero_division` parameter to control this behavior.\n",
      "  _warn_prf(average, modifier, msg_start, len(result))\n"
     ]
    }
   ],
   "source": [
    "# Instantiate a Multinomial Naive Bayes classifier\n",
    "nb_clf = MultinomialNB(alpha=0.45) # best: 0.4\n",
    "# Fit the classifier to the training data\n",
    "nb_clf.fit(count_train, y_train)\n",
    "# Create the predicted tags\n",
    "pred = nb_clf.predict(count_test)\n",
    "\n",
    "# Print the predictions for each row of the dataset (1001 rows)\n",
    "#print(\"Number of predictions: \", len(pred)) # Equal to the number of test data (when it got split)\n",
    "#print(pred)\n",
    "\n",
    "\n",
    "# Calculate the accuracy score\n",
    "score = metrics.accuracy_score(y_test, pred)\n",
    "# Calculate the confusion matrix\n",
    "# conf_matrix = metrics.confusion_matrix(y_test, pred)\n",
    "\n",
    "\n",
    "#print(score)\n",
    "print(classification_report(y_test, pred))"
   ]
  }
 ],
 "metadata": {
  "kernelspec": {
   "display_name": "Python 3 (ipykernel)",
   "language": "python",
   "name": "python3"
  },
  "language_info": {
   "codemirror_mode": {
    "name": "ipython",
    "version": 3
   },
   "file_extension": ".py",
   "mimetype": "text/x-python",
   "name": "python",
   "nbconvert_exporter": "python",
   "pygments_lexer": "ipython3",
   "version": "3.10.4"
  },
  "vscode": {
   "interpreter": {
    "hash": "b0fa6594d8f4cbf19f97940f81e996739fb7646882a419484c72d19e05852a7e"
   }
  }
 },
 "nbformat": 4,
 "nbformat_minor": 2
}
