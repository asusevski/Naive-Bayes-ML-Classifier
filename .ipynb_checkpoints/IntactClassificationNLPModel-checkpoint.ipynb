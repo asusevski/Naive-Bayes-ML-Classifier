{
 "cells": [
  {
   "cell_type": "markdown",
   "metadata": {},
   "source": [
    "# Intact Medical Data ML model using Naive Bayes Classification Model\n",
    "\n",
    "### By: Daniyal, Hibah, Abhishek and Adam"
   ]
  },
  {
   "cell_type": "markdown",
   "metadata": {},
   "source": [
    "In our CxC Data Hackathon project, we were given medical transcription data by Intact and our goal was to predict which of the 40 provided medical specialties each transcription should be assigned to. This is our multiclass classification problem. We are judged based off the macro f1-score. Here are the steps we took to maximize the f1-score:"
   ]
  },
  {
   "cell_type": "markdown",
   "metadata": {},
   "source": [
    "### Step 1: Import Libraries and read in the Dataset to train on"
   ]
  },
  {
   "cell_type": "code",
   "execution_count": 1,
   "metadata": {
    "scrolled": true
   },
   "outputs": [
    {
     "name": "stderr",
     "output_type": "stream",
     "text": [
      "[nltk_data] Downloading package wordnet to /Users/adamyeo/nltk_data...\n",
      "[nltk_data]   Package wordnet is already up-to-date!\n",
      "[nltk_data] Downloading package omw-1.4 to /Users/adamyeo/nltk_data...\n",
      "[nltk_data]   Package omw-1.4 is already up-to-date!\n",
      "[nltk_data] Downloading package punkt to /Users/adamyeo/nltk_data...\n",
      "[nltk_data]   Package punkt is already up-to-date!\n",
      "[nltk_data] Downloading package averaged_perceptron_tagger to\n",
      "[nltk_data]     /Users/adamyeo/nltk_data...\n",
      "[nltk_data]   Package averaged_perceptron_tagger is already up-to-\n",
      "[nltk_data]       date!\n"
     ]
    },
    {
     "name": "stdout",
     "output_type": "stream",
     "text": [
      "Test size with duplicates:  3969\n"
     ]
    }
   ],
   "source": [
    "import pandas as pd\n",
    "import re\n",
    "from sklearn.feature_extraction.text import CountVectorizer\n",
    "from sklearn.feature_extraction import _stop_words\n",
    "from sklearn.model_selection import train_test_split\n",
    "from sklearn.naive_bayes import MultinomialNB\n",
    "from sklearn import metrics\n",
    "from sklearn.metrics import classification_report\n",
    "from nltk.stem import WordNetLemmatizer\n",
    "from nltk.corpus import wordnet\n",
    "import nltk\n",
    "nltk.download('wordnet')\n",
    "nltk.download('omw-1.4')\n",
    "nltk.download('punkt')\n",
    "nltk.download('averaged_perceptron_tagger')\n",
    "\n",
    "## Reading in our data\n",
    "df = pd.read_csv(\"./IntactInstructions/new_train.csv\", index_col=0)\n",
    "print(\"Test size with duplicates: \", len(df))"
   ]
  },
  {
   "cell_type": "markdown",
   "metadata": {},
   "source": [
    "### Step 2: Pre-process our data\n",
    "\n",
    "I think this is the most important step here, the ML model is only as good as its dataset, so we gotta make sure it's squeaky clean.\n",
    "\n",
    "All of the basic pre-processing is done by the CountVectorizer, these tasks include:\n",
    "- Tokenize (divide words individually)\n",
    "- Remove stop-words (remove \"the, and, to, or, ...\"; other special characters)\n",
    "- Lemmatize (convert similar words into its base root; eating, eats, ate => eat)"
   ]
  },
  {
   "cell_type": "code",
   "execution_count": 2,
   "metadata": {
    "scrolled": false
   },
   "outputs": [
    {
     "name": "stdout",
     "output_type": "stream",
     "text": [
      "Label size:  3969\n"
     ]
    },
    {
     "data": {
      "text/plain": [
       "0       0\n",
       "1       1\n",
       "2       1\n",
       "3       2\n",
       "4       0\n",
       "       ..\n",
       "3995    4\n",
       "3996    1\n",
       "3997    1\n",
       "3998    5\n",
       "3999    1\n",
       "Name: labels, Length: 3969, dtype: int64"
      ]
     },
     "execution_count": 2,
     "metadata": {},
     "output_type": "execute_result"
    }
   ],
   "source": [
    "# Create labels/target values\n",
    "y = df.labels\n",
    "print(\"Label size: \", len(y))\n",
    "y"
   ]
  },
  {
   "cell_type": "code",
   "execution_count": 3,
   "metadata": {
    "scrolled": true
   },
   "outputs": [
    {
     "name": "stdout",
     "output_type": "stream",
     "text": [
      "X_train size:  1587\n",
      "y_train size:  1587\n",
      "X_test size:  2382\n",
      "y_test size:  2382\n"
     ]
    }
   ],
   "source": [
    "# Split the data into training and testing sets\n",
    "X_train, X_test, y_train, y_test = train_test_split(df[\"transcription\"], y, test_size=0.6, random_state=42)\n",
    "\n",
    "# X_train: training data of features\n",
    "print(\"X_train size: \", len(X_train))\n",
    "# y_train: training data of label\n",
    "print(\"y_train size: \", len(y_train))\n",
    "\n",
    "# X_test: test data of features\n",
    "print(\"X_test size: \", len(X_test))\n",
    "# y_test: test data of label\n",
    "print(\"y_test size: \", len(y_test))\n",
    "\n",
    "# X_train\n",
    "# y_train[:50]\n",
    "# X_test\n",
    "# y_test"
   ]
  },
  {
   "cell_type": "code",
   "execution_count": 4,
   "metadata": {},
   "outputs": [
    {
     "name": "stdout",
     "output_type": "stream",
     "text": [
      "<class 'sklearn.feature_extraction.text.CountVectorizer'>\n"
     ]
    }
   ],
   "source": [
    "# Instantiate the WordNetLemmatizer\n",
    "wordnet_lemmatizer = WordNetLemmatizer()\n",
    "\n",
    "\n",
    "# Custom pre-processing function\n",
    "def preprocess_data(text):\n",
    "    text = text.lower()\n",
    "    text = re.sub(r'\\d|_', '', text) # removes digits and '_'\n",
    "    text = wordnet_lemmatizer.lemmatize(text)\n",
    "    return text\n",
    "\n",
    "# , preprocessor=preprocess_data\n",
    "# Initialize a CountVectorizer object\n",
    "count_vectorizer = CountVectorizer(stop_words=\"english\", preprocessor=preprocess_data, max_df=0.3, min_df=20, ngram_range=(1, 1))\n",
    "\n",
    "print(type(count_vectorizer))"
   ]
  },
  {
   "cell_type": "markdown",
   "metadata": {},
   "source": [
    "### Step 3: Fit and Transform the Data\n",
    "\n",
    "Specifically, we must fit AND transform the feature training data and only transform the feature test data.\n",
    "This is a preliminary step.\n",
    "\n",
    "In fit_transform(), what happens is that we calculate the mean and variance of the training data and standardize the entire dataset (hence, transform). We only need transform() for the test data because we are using the mean and variance of the training data to standardize the test data."
   ]
  },
  {
   "cell_type": "code",
   "execution_count": 5,
   "metadata": {
    "scrolled": true
   },
   "outputs": [
    {
     "name": "stderr",
     "output_type": "stream",
     "text": [
      "/Users/adamyeo/opt/miniconda3/envs/BASICBIO/lib/python3.10/site-packages/sklearn/feature_extraction/text.py:404: UserWarning: Your stop_words may be inconsistent with your preprocessing. Tokenizing the stop words generated tokens ['ha', 'le', 'wa'] not in stop_words.\n",
      "  warnings.warn(\n"
     ]
    },
    {
     "name": "stdout",
     "output_type": "stream",
     "text": [
      "Number of words:  2512\n",
      "['abc' 'abcd' 'abdomen' 'abdominal' 'ability' 'able' 'abnormal'\n",
      " 'abnormalities' 'abnormality' 'abscess' 'absent' 'abuse' 'ac' 'access'\n",
      " 'accident' 'accommodate' 'accommodation' 'accompanied' 'accomplished'\n",
      " 'according' 'ace' 'achieved' 'acid' 'active' 'activities' 'activity'\n",
      " 'actually' 'acute' 'adaptic' 'add' 'added' 'addition' 'additional'\n",
      " 'additionally' 'address' 'adenocarcinoma' 'adenopathy' 'adequate'\n",
      " 'adequately' 'adhesions' 'adjacent' 'administered' 'administration'\n",
      " 'admission' 'admit' 'admits' 'admitted' 'admitting' 'adnexal' 'adrenal'\n",
      " 'adult' 'advance' 'advanced' 'advised' 'afebrile' 'affect' 'african'\n",
      " 'afternoon' 'age' 'aggressive' 'ago' 'agree' 'agreed' 'ahead' 'aid' 'air'\n",
      " 'airway' 'albumin' 'albuterol' 'alcohol' 'alert' 'alignment' 'alkaline'\n",
      " 'allergic' 'allergies' 'allergy' 'allis' 'allograft' 'allow' 'allowed'\n",
      " 'allowing' 'alt' 'alternative' 'alternatives' 'ambulate' 'ambulation'\n",
      " 'american' 'amounts' 'amoxicillin' 'analysis' 'anastomosis' 'anatomic'\n",
      " 'anatomy' 'ancef' 'anemia' 'anesthetic' 'anesthetized' 'aneurysm'\n",
      " 'angina' 'angio' 'angiogram' 'angiography' 'angioplasty' 'angle'\n",
      " 'anicteric' 'ankle' 'ankles' 'answered' 'anterior' 'anteriorly' 'anti'\n",
      " 'antibiotic' 'antibiotics' 'anticoagulation' 'anxiety' 'aorta' 'aortic'\n",
      " 'ap' 'apex' 'apical' 'apnea' 'apparent' 'apparently' 'appear'\n",
      " 'appearance' 'appeared' 'appearing' 'appears' 'appendectomy' 'appendix'\n",
      " 'appetite' 'application' 'applied' 'appointment' 'appreciated' 'approach'\n",
      " 'appropriate' 'appropriately' 'approximate' 'approximated'\n",
      " 'approximately' 'arch' 'area' 'areas' 'arm' 'arms' 'arterial' 'arteries'\n",
      " 'artery' 'arthritis' 'arthroplasty' 'articular' 'ascending' 'asked'\n",
      " 'aspect' 'aspects' 'aspirated' 'aspiration' 'aspirin' 'assess' 'assessed'\n",
      " 'assessment' 'assist' 'assistance' 'assistant' 'assisted' 'associated'\n",
      " 'ast' 'asthma' 'asymmetry' 'ataxia' 'atelectasis' 'atraumatic' 'atrial'\n",
      " 'atrium' 'atrophy' 'attached' 'attachment' 'attachments' 'attack'\n",
      " 'attempt' 'attempted' 'attempts' 'attention' 'atypical' 'auditory'\n",
      " 'august' 'auscultation' 'available' 'avoid' 'awake' 'awakened' 'aware'\n",
      " 'away' 'axial' 'axilla' 'axillary' 'axis' 'babinski' 'baby' 'bacitracin'\n",
      " 'background' 'bag' 'balance' 'ball' 'balloon' 'band' 'bandage' 'base'\n",
      " 'based' 'baseline' 'bases' 'basis' 'beats' 'bed' 'bedside' 'bedtime'\n",
      " 'began' 'beginning' 'begun' 'behavior' 'believe' 'believes' 'beneath'\n",
      " 'benefit' 'benefits' 'benign' 'best' 'beta' 'betadine' 'better'\n",
      " 'bicarbonate' 'biceps' 'bifurcation' 'bilateral' 'bilaterally' 'bimanual'\n",
      " 'biopsies' 'biopsy' 'bipolar' 'birth' 'bit' 'black' 'bladder' 'blade'\n",
      " 'bleed' 'bleeding' 'block' 'blunt' 'bluntly' 'bodies' 'body' 'bolus'\n",
      " 'bone' 'bones' 'bony' 'border' 'borderline' 'born' 'bovie' 'bowel' 'boy'\n",
      " 'bp' 'brachial' 'brain' 'branch' 'branches' 'breast' 'breasts' 'breath'\n",
      " 'breathing' 'brief' 'briefly' 'bring' 'broad' 'bronchoscopy' 'brother'\n",
      " 'brought' 'bruising' 'bruit' 'bruits' 'bue' 'bulb' 'bulging' 'bulk' 'bun'\n",
      " 'bundle' 'bur' 'buried' 'burning' 'burr' 'bypass' 'calcification'\n",
      " 'calcified' 'calcium' 'calculated' 'calf' 'caliber' 'called' 'came'\n",
      " 'camera' 'canal' 'canals' 'cancer' 'candidate' 'cannula' 'cannulate'\n",
      " 'cannulated' 'capacity' 'capillary' 'capsular' 'capsule' 'carcinoma'\n",
      " 'cardiac' 'cardiology' 'cardiopulmonary' 'cardiovascular' 'care'\n",
      " 'careful' 'carefully' 'carotid' 'carpal' 'carried' 'cartilage' 'case'\n",
      " 'cataract' 'cath' 'catheter' 'catheterization' 'catheters' 'caucasian'\n",
      " 'cause' 'caused' 'causing' 'cauterized' 'cautery' 'cava' 'cavity' 'cbc'\n",
      " 'cc' 'cecum' 'cell' 'cells' 'center' 'central' 'cephalad' 'cephalic'\n",
      " 'cerebellar' 'cerebral' 'certainly' 'cervical' 'cervix' 'chair' 'chamber'\n",
      " 'change' 'changed' 'changes' 'chart' 'check' 'checked' 'chemotherapy'\n",
      " 'chest' 'chief' 'child' 'children' 'chills' 'chloride' 'cholecystectomy'\n",
      " 'cholesterol' 'chromic' 'chronic' 'cigarettes' 'circumferential'\n",
      " 'circumflex' 'clamp' 'clamped' 'clamps' 'clean' 'cleaned' 'cleansed'\n",
      " 'clear' 'cleared' 'clearly' 'clinic' 'clinical' 'clinically' 'clips'\n",
      " 'clock' 'close' 'closed' 'closely' 'closing' 'closure' 'clots' 'clubbing'\n",
      " 'cm' 'cn' 'cns' 'code' 'codeine' 'cognitive' 'cold' 'collateral' 'colli'\n",
      " 'colon' 'colonoscope' 'colonoscopy' 'color' 'combination' 'come' 'comes'\n",
      " 'comfortable' 'coming' 'common' 'compared' 'comparison' 'compartment'\n",
      " 'compatible' 'complain' 'complained' 'complaining' 'complains'\n",
      " 'complaint' 'complaints' 'complete' 'completed' 'completely' 'completion'\n",
      " 'complex' 'complicated' 'complication' 'complications' 'component'\n",
      " 'compression' 'concern' 'concerned' 'concerning' 'concerns' 'conclusion'\n",
      " 'conditions' 'conduction' 'confirm' 'confirmed' 'confusion' 'congenital'\n",
      " 'congestion' 'congestive' 'conjunctiva' 'conjunctivae' 'connected'\n",
      " 'conscious' 'consciousness' 'consent' 'conservative' 'consider'\n",
      " 'considered' 'consisted' 'consistent' 'consisting' 'constant'\n",
      " 'constipation' 'constitutional' 'consult' 'consultation' 'consulted'\n",
      " 'contact' 'content' 'contents' 'continue' 'continued' 'continues'\n",
      " 'continuous' 'contour' 'contrast' 'control' 'controlled' 'cooperative'\n",
      " 'coord' 'coordination' 'copd' 'copious' 'copiously' 'cord' 'cords'\n",
      " 'coronal' 'coronary' 'correct' 'correction' 'cortex' 'cortical' 'cough'\n",
      " 'coumadin' 'counseling' 'count' 'counter' 'counts' 'couple' 'course'\n",
      " 'covered' 'crackles']\n"
     ]
    }
   ],
   "source": [
    "# Fit and transform the TRAINING data using only the 'transciption' column values\n",
    "count_train = count_vectorizer.fit_transform(X_train.values)\n",
    "# Transform the TEST data using only the 'transciption' column values\n",
    "count_test = count_vectorizer.transform(X_test.values)\n",
    "\n",
    "\n",
    "# Print number of words processing\n",
    "print(\"Number of words: \", len(count_vectorizer.get_feature_names_out())) # number of test data from split\n",
    "# Print the features (individual tokens) of the count_vectorizer\n",
    "print(count_vectorizer.get_feature_names_out()[:500])"
   ]
  },
  {
   "cell_type": "markdown",
   "metadata": {},
   "source": [
    "### Step 5: Train our models here\n",
    "\n",
    "From our previous work, we can see that the Multinomial Naive Bayes is the most accurate model to classify our labels"
   ]
  },
  {
   "cell_type": "code",
   "execution_count": 6,
   "metadata": {},
   "outputs": [
    {
     "name": "stdout",
     "output_type": "stream",
     "text": [
      "Number of predictions:  2382\n",
      "[ 7  1 34 ...  9  3 20]\n"
     ]
    }
   ],
   "source": [
    "# Instantiate a Multinomial Naive Bayes classifier\n",
    "nb_clf = MultinomialNB(alpha=0.4)\n",
    "# Fit the classifier to the training data\n",
    "nb_clf.fit(count_train, y_train)\n",
    "# Create the predicted tags\n",
    "pred = nb_clf.predict(count_test)\n",
    "\n",
    "# Print the predictions for each row of the dataset (1001 rows)\n",
    "print(\"Number of predictions: \", len(pred)) # Equal to the number of test data (when it got split)\n",
    "print(pred)"
   ]
  },
  {
   "cell_type": "markdown",
   "metadata": {},
   "source": [
    "### Step 6: Evaluate the model\n",
    "\n",
    "We will create an accuracy score and also a confusion matrix.\n",
    "\n",
    "Precision = TP/(TP + FP)\n",
    "\n",
    "Recall = TP/(TP+FN)\n",
    "\n",
    "F1 Score = 2*(Recall * Precision) / (Recall + Precision)"
   ]
  },
  {
   "cell_type": "code",
   "execution_count": 7,
   "metadata": {
    "scrolled": true
   },
   "outputs": [
    {
     "name": "stdout",
     "output_type": "stream",
     "text": [
      "0.3593618807724601\n",
      "              precision    recall  f1-score   support\n",
      "\n",
      "           0       0.29      0.10      0.14        42\n",
      "           1       0.36      0.21      0.27       485\n",
      "           2       0.39      0.37      0.38       119\n",
      "           3       0.32      0.54      0.40        24\n",
      "           4       0.35      0.36      0.35        95\n",
      "           5       0.41      0.45      0.43       106\n",
      "           6       0.44      0.40      0.42       174\n",
      "           7       0.53      0.35      0.42       196\n",
      "           8       0.20      0.16      0.18        38\n",
      "           9       0.47      0.51      0.49        53\n",
      "          10       0.20      0.34      0.26       132\n",
      "          11       0.14      0.10      0.12        41\n",
      "          12       0.27      0.43      0.33        14\n",
      "          13       0.26      0.27      0.27        73\n",
      "          14       0.25      0.29      0.27         7\n",
      "          15       0.58      0.76      0.66        34\n",
      "          16       0.31      0.31      0.31       254\n",
      "          17       0.17      0.33      0.22         3\n",
      "          18       0.36      0.57      0.44        47\n",
      "          19       0.42      0.63      0.51        76\n",
      "          20       0.44      0.46      0.45        87\n",
      "          21       0.38      0.60      0.47        52\n",
      "          22       0.67      0.80      0.73         5\n",
      "          23       0.17      0.08      0.11        12\n",
      "          24       0.33      0.27      0.30        11\n",
      "          25       0.23      0.38      0.29        24\n",
      "          26       0.00      0.00      0.00         2\n",
      "          27       0.46      0.75      0.57        40\n",
      "          28       0.23      1.00      0.38         3\n",
      "          29       0.39      0.78      0.52         9\n",
      "          30       0.22      0.29      0.25        35\n",
      "          31       0.20      0.09      0.13        11\n",
      "          32       0.33      0.22      0.27         9\n",
      "          33       0.00      0.00      0.00        12\n",
      "          34       0.61      0.75      0.67        36\n",
      "          35       0.33      0.80      0.47         5\n",
      "          36       0.00      0.00      0.00         4\n",
      "          37       0.50      0.67      0.57         6\n",
      "          38       0.21      1.00      0.35         4\n",
      "          39       0.00      0.00      0.00         2\n",
      "\n",
      "    accuracy                           0.36      2382\n",
      "   macro avg       0.31      0.41      0.33      2382\n",
      "weighted avg       0.37      0.36      0.35      2382\n",
      "\n"
     ]
    }
   ],
   "source": [
    "# Calculate the accuracy score\n",
    "score = metrics.accuracy_score(y_test, pred)\n",
    "# Calculate the confusion matrix\n",
    "# conf_matrix = metrics.confusion_matrix(y_test, pred)\n",
    "\n",
    "print(score)\n",
    "print(classification_report(y_test, pred))"
   ]
  }
 ],
 "metadata": {
  "kernelspec": {
   "display_name": "Python 3 (ipykernel)",
   "language": "python",
   "name": "python3"
  },
  "language_info": {
   "codemirror_mode": {
    "name": "ipython",
    "version": 3
   },
   "file_extension": ".py",
   "mimetype": "text/x-python",
   "name": "python",
   "nbconvert_exporter": "python",
   "pygments_lexer": "ipython3",
   "version": "3.10.4"
  },
  "vscode": {
   "interpreter": {
    "hash": "b0fa6594d8f4cbf19f97940f81e996739fb7646882a419484c72d19e05852a7e"
   }
  }
 },
 "nbformat": 4,
 "nbformat_minor": 2
}
